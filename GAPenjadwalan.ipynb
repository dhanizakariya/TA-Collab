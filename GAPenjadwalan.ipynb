{
  "cells": [
    {
      "cell_type": "markdown",
      "metadata": {
        "id": "view-in-github",
        "colab_type": "text"
      },
      "source": [
        "<a href=\"https://colab.research.google.com/github/dhanizakariya/TA-Collab/blob/main/GAPenjadwalan.ipynb\" target=\"_parent\"><img src=\"https://colab.research.google.com/assets/colab-badge.svg\" alt=\"Open In Colab\"/></a>"
      ]
    },
    {
      "cell_type": "code",
      "execution_count": 29,
      "metadata": {
        "id": "vQPD6BZMBHoR"
      },
      "outputs": [],
      "source": [
        "import random, copy\n",
        "from math import ceil, log2\n",
        "import math\n",
        "import pandas as pd\n",
        "import numpy as np\n",
        "from collections import OrderedDict"
      ]
    },
    {
      "cell_type": "code",
      "execution_count": 30,
      "metadata": {
        "id": "YGmBQl3RuesI"
      },
      "outputs": [],
      "source": [
        "class Dosen :\n",
        "  dosen = None\n",
        "\n",
        "  def __init__(self,name):\n",
        "    self.name = name\n",
        "\n",
        "  @staticmethod\n",
        "  def find(name):\n",
        "    for i in range (len(Dosen.dosen)):\n",
        "      if Dosen.dosen[i].name == name:\n",
        "        return i\n",
        "    return -1\n",
        "\n",
        "  def __repr__(self):\n",
        "    return \"Dosen: \" + self.name\n",
        "\n",
        "\n",
        "class Kelas :\n",
        "  kelas = None\n",
        "\n",
        "  def __init__(self,name, size):\n",
        "    self.name = name\n",
        "    self.size = size\n",
        "\n",
        "  @staticmethod\n",
        "  def find(name):\n",
        "    for i in range (len(Kelas.kelas)):\n",
        "      if Kelas.kelas[i].name == name:\n",
        "        return i\n",
        "    return -1\n",
        "\n",
        "  def __repr__(self):\n",
        "    return \"Kelas: \" + self.name\n",
        "\n",
        "class Matkul :\n",
        "  mamtkul = None\n",
        "\n",
        "  def __init__(self,name, status = False):\n",
        "    self.name = name\n",
        "    self.status = status\n",
        "\n",
        "  @staticmethod\n",
        "  def find(name):\n",
        "    for i in range (len(Matkul.matkul)):\n",
        "      if Matkul.matkul[i].name == name:\n",
        "        return i\n",
        "    return -1\n",
        "\n",
        "  def __repr__(self):\n",
        "    return \"Matkul: \" + self.name\n",
        "\n",
        "\n",
        "class Ruang :\n",
        "  ruang = None\n",
        "\n",
        "  def __init__(self,name, size, status = True):\n",
        "    self.name = name\n",
        "    self.size = size\n",
        "    self.status = status\n",
        "\n",
        "  @staticmethod\n",
        "  def find(name):\n",
        "    for i in range (len(Ruang.ruang)):\n",
        "      if Ruang.ruang[i].name == name:\n",
        "        return i\n",
        "    return -1\n",
        "\n",
        "  def __repr__(self):\n",
        "    return \"Ruang: \" + self.name\n",
        "\n",
        "class Waktu :\n",
        "  waktu = None\n",
        "\n",
        "  def __init__(self, hari, mulai, selesai,  status_slot = False):\n",
        "    self.mulai = mulai\n",
        "    self.selesai = selesai\n",
        "    self.hari = hari\n",
        "    self.status_slot = status_slot\n",
        "\n",
        "  def __repr__(self):\n",
        "    return \"Hari: \" + self.hari + \", Pukul: \" + self.mulai + \"-\" + self.selesai\n",
        "      \n",
        "  "
      ]
    },
    {
      "cell_type": "code",
      "execution_count": 31,
      "metadata": {
        "id": "OJHotco1oFHe"
      },
      "outputs": [],
      "source": [
        "Dosen.dosen = [Dosen(\"Dr. Eko Mulyanto Yuniarno, S.T.,M.T.\"),\n",
        "               Dosen(\"Dr. Diah Puspito Wulandari, S.T.,M.Sc.\"),\n",
        "               Dosen(\"Dr. I Ketut Eddy Purnama, S.T.,M.T.\"),\n",
        "               Dosen(\"Ir. Hany Boedinugroho, M.T.\"),\n",
        "               Dosen(\"Prof. Dr. Ir. Yoyon Kusnendar Suprapto, M.Sc.\"),\n",
        "               Dosen(\"Prof. Dr. Ir. Mauridhi Hery Purnomo, M.Eng.\"),\n",
        "               Dosen(\"Dr. Surya Sumpeno, S.T.,M.Sc.\"),\n",
        "               Dosen(\"Eko Pramunanto, S.T., M.T.\"),\n",
        "               Dosen(\"Arief Kurniawan, S.T., M.T.\"),\n",
        "               Dosen(\"Muhtadin, S.T., M.T.\"),\n",
        "               Dosen(\"Atar Fuady Babgei, S.T., M.Sc.\"),\n",
        "               Dosen(\"Mochamad Hariadi, S.T.,M.Sc.,Ph.D\"),\n",
        "               Dosen(\"Dr. Supeno Mardi Susiki Nugroho, S.T., M.T.\"),\n",
        "               Dosen(\"Susi Juniastuti, S.T.,M.Eng.\"),\n",
        "               Dosen(\"Ahmad Zaini, S.T., M.Sc.\"),\n",
        "               Dosen(\"Reza Fuad Rachmadi, S.T.,M.T.,Ph.D\"),\n",
        "               Dosen(\"Dion Hayu Fandiantoro, S.T., M.Eng.\")\n",
        "               ]\n",
        "\n",
        "Kelas.kelas = [Kelas(\"A\", 10),\n",
        "               Kelas(\"B\", 30)]\n",
        "\n",
        "Matkul.matkul = [Matkul(\"Matematika Diskrit A\"),\n",
        "                 Matkul(\"Matematika Diskrit B\"),\n",
        "                 Matkul(\"Sistem Manajemen Basis Data A\"),\n",
        "                 Matkul(\"Sistem Manajemen Basis Data B\"),\n",
        "                 Matkul(\"Pemrograman Lanjut A\"),\n",
        "                 Matkul(\"Pemrograman Lanjut B\"),\n",
        "                 Matkul(\"Sistem Operasi A\"),\n",
        "                 Matkul(\"Rangkaian Digital A\"),\n",
        "                 Matkul(\"Metode Numerik A\"),\n",
        "                 Matkul(\"Metode Numerik B\"),\n",
        "                 Matkul(\"Metode Numerik C\"),\n",
        "                 Matkul(\"Proyek Telematika A\"),\n",
        "                 Matkul(\"Aljabar Linear A\"),\n",
        "                 Matkul(\"Persamaan Differensial dan Deret A\"),\n",
        "                 Matkul(\"Desain Dan Rekayasa Sistem A\"),\n",
        "                 Matkul(\"Desain Dan Rekayasa Sistem B\"),\n",
        "                 Matkul(\"Pemrograman Sistem dan Jaringan A\"),\n",
        "                 Matkul(\"Desain Pemrograman Game A\"),\n",
        "                 Matkul(\"Arsitektur dan Organisasi Sistem Komputer A\"),\n",
        "                 Matkul(\"Arsitektur dan Organisasi Sistem Komputer B\"),\n",
        "                 Matkul(\"Sistem Mikroprosesor dan Mikrokontroller A\"),\n",
        "                 Matkul(\"Persepsi Robot A\"),\n",
        "                 Matkul(\"Pra Tugas Akhir A\"),\n",
        "                 Matkul(\"Sistem Tertanam A\"),\n",
        "                 Matkul(\"Pengolahan Sinyal Digital A\"),\n",
        "                 Matkul(\"Pengantar Robotika A\"),\n",
        "                 Matkul(\"Visi Komputer A\"),\n",
        "                 Matkul(\"Probabilitas dan Statistik A\"),\n",
        "                 Matkul(\"Sekuriti Sistem Komputer A\"),\n",
        "                 Matkul(\"Jaringan Komputer A\"),\n",
        "                 Matkul(\"Jaringan Komputer B\"),\n",
        "                 Matkul(\"Deep Learning untuk Multimedia A\"),\n",
        "                 Matkul(\"Rangkaian Listrik A\"),\n",
        "                 Matkul(\"Rangkaian Listrik B\"),\n",
        "                 Matkul(\"Dasar Pemrograman P\"),\n",
        "                 Matkul(\"Desain Pemrograman Game P\")]\n",
        "\n",
        "Ruang.ruang = [Ruang(\"B211\", 40),\n",
        "               Ruang(\"A234\", 40),\n",
        "               Ruang(\"A235\", 40),\n",
        "               Ruang(\"A108\", 40)\n",
        "              ]\n",
        "\n",
        "Waktu.waktu = [Waktu(\"Senin\",\"07.30\",\"10.00\"),\n",
        "               Waktu(\"Senin\",\"10.00\",\"12.30\"),\n",
        "               Waktu(\"Senin\",\"13.30\",\"16.00\"),\n",
        "               Waktu(\"Selasa\",\"07.30\",\"10.00\"),\n",
        "               Waktu(\"Selasa\",\"10.00\",\"12.30\"),\n",
        "               Waktu(\"Selasa\",\"13.30\",\"16.00\"),\n",
        "               Waktu(\"Rabu\",\"07.30\",\"10.00\"),\n",
        "               Waktu(\"Rabu\",\"10.00\",\"12.30\"),\n",
        "               Waktu(\"Rabu\",\"13.30\",\"16.00\"),\n",
        "               Waktu(\"Kamis\",\"07.30\",\"10.00\"),\n",
        "               Waktu(\"Kamis\",\"10.00\",\"12.30\"),\n",
        "               Waktu(\"Kamis\",\"13.30\",\"16.00\"),\n",
        "               Waktu(\"Jumat\",\"07.30\",\"10.00\"),\n",
        "              #  Waktu(\"Jumat\",\"10.00\",\"12.30\"),\n",
        "               Waktu(\"Jumat\",\"13.30\",\"16.00\"),\n",
        "               ]\n",
        "\n"
      ]
    },
    {
      "cell_type": "code",
      "execution_count": 32,
      "metadata": {
        "colab": {
          "base_uri": "https://localhost:8080/"
        },
        "id": "uFmOdaMcSFm2",
        "outputId": "09695ed5-ec1f-4b37-a466-c99b3d8d7f3d"
      },
      "outputs": [
        {
          "output_type": "stream",
          "name": "stdout",
          "text": [
            "Dosen: Dr. Diah Puspito Wulandari, S.T.,M.Sc.\n"
          ]
        }
      ],
      "source": [
        "print(Dosen.dosen[1])"
      ]
    },
    {
      "cell_type": "code",
      "execution_count": 33,
      "metadata": {
        "colab": {
          "base_uri": "https://localhost:8080/"
        },
        "id": "NzZYLQExm-or",
        "outputId": "d0519264-a6c5-4907-86eb-fda0167bba0b"
      },
      "outputs": [
        {
          "output_type": "stream",
          "name": "stdout",
          "text": [
            "[[17, 16, 2, 8], [4, 33, 4, 4], [4, 36, 2, 10], [3, 19, 2, 12], [6, 33, 2, 11], [10, 4, 4, 3], [4, 31, 1, 8], [14, 33, 2, 4], [13, 36, 1, 5], [1, 9, 4, 4], [8, 25, 4, 1], [2, 31, 3, 3], [7, 5, 4, 8], [5, 29, 2, 9], [15, 7, 2, 13], [11, 29, 2, 14], [12, 6, 2, 13], [6, 5, 2, 10], [17, 23, 4, 2], [10, 34, 4, 6], [7, 25, 3, 13], [12, 16, 4, 4], [16, 11, 2, 13], [3, 20, 2, 10], [12, 36, 3, 8], [2, 10, 3, 14], [11, 12, 1, 4], [6, 29, 3, 7], [4, 32, 2, 14], [10, 22, 1, 13], [7, 35, 1, 4], [2, 29, 2, 6], [14, 32, 1, 10], [13, 26, 4, 2], [13, 25, 4, 9], [17, 23, 4, 2]]\n",
            "[[13, 21, 3, 2], [12, 5, 1, 7], [8, 15, 4, 8], [8, 9, 3, 12], [6, 27, 3, 4], [9, 5, 3, 14], [16, 25, 1, 8], [12, 27, 1, 12], [12, 24, 3, 5], [11, 15, 1, 1], [1, 9, 3, 11], [10, 31, 2, 5], [12, 12, 1, 8], [15, 14, 4, 4], [12, 10, 3, 10], [12, 6, 3, 13], [7, 32, 2, 4], [6, 19, 4, 11], [12, 10, 4, 10], [3, 22, 1, 4], [16, 32, 1, 2], [13, 29, 3, 2], [10, 28, 4, 2], [9, 5, 4, 10], [7, 18, 1, 13], [17, 20, 4, 9], [15, 34, 1, 5], [17, 20, 2, 3], [6, 4, 1, 2], [11, 32, 3, 5], [15, 5, 2, 11], [17, 29, 4, 11], [3, 28, 2, 5], [12, 24, 3, 14], [1, 30, 3, 14], [11, 8, 1, 2]]\n"
          ]
        }
      ],
      "source": [
        "individu1 = [[random.randint(1, len(Dosen.dosen)), \n",
        "              random.randint(1, len(Matkul.matkul)),\n",
        "               random.randint(1, len(Ruang.ruang)),\n",
        "               random.randint(1, len(Waktu.waktu))\n",
        "               ] \n",
        "              for i in range (len(Matkul.matkul))]\n",
        "\n",
        "individu2 = [[random.randint(1, len(Dosen.dosen)), \n",
        "              random.randint(1, len(Matkul.matkul)),\n",
        "               random.randint(1, len(Ruang.ruang)),\n",
        "               random.randint(1, len(Waktu.waktu))\n",
        "               ] \n",
        "              for i in range (len(Matkul.matkul))]\n",
        "print(individu1)\n",
        "print(individu2)"
      ]
    },
    {
      "cell_type": "code",
      "source": [
        "print(len(individu1))"
      ],
      "metadata": {
        "colab": {
          "base_uri": "https://localhost:8080/"
        },
        "id": "7gZEIELzrxm9",
        "outputId": "3a84cdc8-5503-4c93-a5ea-ea9a8b9d9255"
      },
      "execution_count": 34,
      "outputs": [
        {
          "output_type": "stream",
          "name": "stdout",
          "text": [
            "36\n"
          ]
        }
      ]
    },
    {
      "cell_type": "code",
      "execution_count": 35,
      "metadata": {
        "id": "FsBWIXqdGV3a"
      },
      "outputs": [],
      "source": [
        "def sorting(sub_li):\n",
        "    l = len(sub_li)\n",
        "    for i in range(0, l):\n",
        "        for j in range(0, l-i-1):\n",
        "            if (sub_li[j][3] > sub_li[j + 1][3]):\n",
        "                tempo = sub_li[j]\n",
        "                sub_li[j]= sub_li[j + 1]\n",
        "                sub_li[j + 1]= tempo\n",
        "    return sub_li"
      ]
    },
    {
      "cell_type": "code",
      "source": [
        "individu1 = sorting(individu1)\n",
        "individu2 = sorting(individu2)\n",
        "print(len(individu1))\n",
        "print(individu1)\n",
        "print(individu2)"
      ],
      "metadata": {
        "id": "cGsysArmkKx8",
        "colab": {
          "base_uri": "https://localhost:8080/"
        },
        "outputId": "a471a37a-1df1-414f-dd9e-2f388a4e2b1c"
      },
      "execution_count": 36,
      "outputs": [
        {
          "output_type": "stream",
          "name": "stdout",
          "text": [
            "36\n",
            "[[8, 25, 4, 1], [17, 23, 4, 2], [13, 26, 4, 2], [17, 23, 4, 2], [10, 4, 4, 3], [2, 31, 3, 3], [4, 33, 4, 4], [14, 33, 2, 4], [1, 9, 4, 4], [12, 16, 4, 4], [11, 12, 1, 4], [7, 35, 1, 4], [13, 36, 1, 5], [10, 34, 4, 6], [2, 29, 2, 6], [6, 29, 3, 7], [17, 16, 2, 8], [4, 31, 1, 8], [7, 5, 4, 8], [12, 36, 3, 8], [5, 29, 2, 9], [13, 25, 4, 9], [4, 36, 2, 10], [6, 5, 2, 10], [3, 20, 2, 10], [14, 32, 1, 10], [6, 33, 2, 11], [3, 19, 2, 12], [15, 7, 2, 13], [12, 6, 2, 13], [7, 25, 3, 13], [16, 11, 2, 13], [10, 22, 1, 13], [11, 29, 2, 14], [2, 10, 3, 14], [4, 32, 2, 14]]\n",
            "[[11, 15, 1, 1], [13, 21, 3, 2], [16, 32, 1, 2], [13, 29, 3, 2], [10, 28, 4, 2], [6, 4, 1, 2], [11, 8, 1, 2], [17, 20, 2, 3], [6, 27, 3, 4], [15, 14, 4, 4], [7, 32, 2, 4], [3, 22, 1, 4], [12, 24, 3, 5], [10, 31, 2, 5], [15, 34, 1, 5], [11, 32, 3, 5], [3, 28, 2, 5], [12, 5, 1, 7], [8, 15, 4, 8], [16, 25, 1, 8], [12, 12, 1, 8], [17, 20, 4, 9], [12, 10, 3, 10], [12, 10, 4, 10], [9, 5, 4, 10], [1, 9, 3, 11], [6, 19, 4, 11], [15, 5, 2, 11], [17, 29, 4, 11], [8, 9, 3, 12], [12, 27, 1, 12], [12, 6, 3, 13], [7, 18, 1, 13], [9, 5, 3, 14], [12, 24, 3, 14], [1, 30, 3, 14]]\n"
          ]
        }
      ]
    },
    {
      "cell_type": "code",
      "source": [
        "def cetak(a):\n",
        "  print(\"Jadwal Semester Ganjil\")\n",
        "  for i in range (0,len(a)) :\n",
        "      print(Waktu.waktu[(a[i][3])-1],' | ',\n",
        "            Ruang.ruang[(a[i][2])-1],' | ',\n",
        "            Matkul.matkul[(a[i][1])-1],' | ',\n",
        "            Dosen.dosen[(a[i][0])-1],\n",
        "            )"
      ],
      "metadata": {
        "id": "vv-wDAAdpT6e"
      },
      "execution_count": 37,
      "outputs": []
    },
    {
      "cell_type": "code",
      "source": [
        "#satu matkul hanya dilakukan satu kali\n",
        "def cek_matkul(a):\n",
        "  score = 0\n",
        "  for i in range (len(a)):\n",
        "    for j in range (i+1, len(a)):\n",
        "      if a[i][1] == a[i+1][1] and j<=len(a):\n",
        "        score = score + 1\n",
        "  return score"
      ],
      "metadata": {
        "id": "AZ_zUQ_jp5BL"
      },
      "execution_count": 38,
      "outputs": []
    },
    {
      "cell_type": "code",
      "source": [
        "#satu ruangan hanya dipakai satu kali dalam satu waktu\n",
        "def cek_ruang(a):\n",
        "  score = 0\n",
        "  for i in range (len(a)):\n",
        "    for j in range (i+1, len(a)):\n",
        "      if a[i][2] == a[i+1][2] and a[i][3] == a[i+1][3] and j<=len(a):\n",
        "        score = score + 1\n",
        "  return score"
      ],
      "metadata": {
        "id": "2Yl9Pc90vEy7"
      },
      "execution_count": 39,
      "outputs": []
    },
    {
      "cell_type": "code",
      "source": [
        "#satu dosen hanya bisa mengajar dalam satu waktu\n",
        "def cek_dosen(a):\n",
        "  score = 0\n",
        "  for i in range (len(a)):\n",
        "    for j in range (i+1, len(a)):\n",
        "      if a[i][0] == a[i+1][0] and a[i][3] == a[i+1][3] and j<=len(a):\n",
        "        score = score+1\n",
        "  return score\n"
      ],
      "metadata": {
        "id": "Cu5dsISNxRAU"
      },
      "execution_count": 40,
      "outputs": []
    },
    {
      "cell_type": "code",
      "execution_count": 40,
      "metadata": {
        "id": "MpxoUu6MYVVB"
      },
      "outputs": [],
      "source": []
    },
    {
      "cell_type": "code",
      "source": [
        "def fitness(a):\n",
        "  scores = 0\n",
        "  scores = scores + cek_matkul(a)\n",
        "  scores = scores + cek_dosen(a)\n",
        "  # scores = scores + cek_ruang(a)\n",
        "  print(\"Score: \",scores)\n",
        "  return 1/(scores+1)"
      ],
      "metadata": {
        "id": "jX6zcfuape8J"
      },
      "execution_count": 52,
      "outputs": []
    },
    {
      "cell_type": "code",
      "source": [
        "def crossover(a,b):\n",
        "  a = list(a)\n",
        "  b = list(b)\n",
        "  c = list(a)\n",
        "  d = list(b)\n",
        "  print(\"Crossover\\n\")\n",
        "  print(\"Before\")\n",
        "  print(a)\n",
        "  print(b)\n",
        "\n",
        "  n = random.randint(1, ((len(a)-1)))\n",
        "  print(\"crossover point :\", n)\n",
        "\n",
        "  for i in range (n, len(a)):\n",
        "    a[i],b[i] = b[i],a[i]\n",
        "\n",
        "  print(\"After\")\n",
        "  print(a)\n",
        "  print(b)\n",
        "\n",
        "  return a,b\n",
        "  # fit_a = float(fitness(a))\n",
        "  # fit_b = float(fitness(b))\n",
        "  # fit_c = float(fitness(c))\n",
        "  # fit_d = float(fitness(d))\n",
        "  # print(fit_a)\n",
        "  # print(fit_b)\n",
        "  # print(fit_c)\n",
        "  # print(fit_d)\n",
        "  # _ = ['a','b','c','d']\n",
        "  # fit = [fit_a,fit_b,fit_c,fit_d]\n",
        "  # pair = dict(zip(fit,_))\n",
        "  # fit_sorted = dict(reversed(sorted(pair.items())))\n",
        "  # result = fit_sorted.values()\n",
        "  # print(fit_sorted.values())\n"
      ],
      "metadata": {
        "id": "oaHShrCQ2rrN"
      },
      "execution_count": 42,
      "outputs": []
    },
    {
      "cell_type": "code",
      "source": [
        "def cross(a,b):\n",
        "  a = list(a)\n",
        "  b = list(b)\n",
        "\n",
        "  print(\"Crossover\\n\")\n",
        "\n",
        "  print(\"Before\")\n",
        "  print(a)\n",
        "  print(b)\n",
        "\n",
        "  n = random.randint(1, (len(a)-1))\n",
        "  print(\"crossover point :\", n) \n",
        "\n",
        "  for i in range (n, len(a)):\n",
        "    a[i],b[i] = b[i],a[i]\n",
        "\n",
        "  print(\"After\")\n",
        "  print(a)\n",
        "  print(b)\n",
        "\n",
        "  return a\n",
        "\n",
        "c = cross(individu1,individu2)\n",
        "print(c)"
      ],
      "metadata": {
        "colab": {
          "base_uri": "https://localhost:8080/"
        },
        "id": "ks7L4gUywjY2",
        "outputId": "289ff72a-c335-4cb5-9485-d6ee38b79286"
      },
      "execution_count": 43,
      "outputs": [
        {
          "output_type": "stream",
          "name": "stdout",
          "text": [
            "Crossover\n",
            "\n",
            "Before\n",
            "[[8, 25, 4, 1], [17, 23, 4, 2], [13, 26, 4, 2], [17, 23, 4, 2], [10, 4, 4, 3], [2, 31, 3, 3], [4, 33, 4, 4], [14, 33, 2, 4], [1, 9, 4, 4], [12, 16, 4, 4], [11, 12, 1, 4], [7, 35, 1, 4], [13, 36, 1, 5], [10, 34, 4, 6], [2, 29, 2, 6], [6, 29, 3, 7], [17, 16, 2, 8], [4, 31, 1, 8], [7, 5, 4, 8], [12, 36, 3, 8], [5, 29, 2, 9], [13, 25, 4, 9], [4, 36, 2, 10], [6, 5, 2, 10], [3, 20, 2, 10], [14, 32, 1, 10], [6, 33, 2, 11], [3, 19, 2, 12], [15, 7, 2, 13], [12, 6, 2, 13], [7, 25, 3, 13], [16, 11, 2, 13], [10, 22, 1, 13], [11, 29, 2, 14], [2, 10, 3, 14], [4, 32, 2, 14]]\n",
            "[[11, 15, 1, 1], [13, 21, 3, 2], [16, 32, 1, 2], [13, 29, 3, 2], [10, 28, 4, 2], [6, 4, 1, 2], [11, 8, 1, 2], [17, 20, 2, 3], [6, 27, 3, 4], [15, 14, 4, 4], [7, 32, 2, 4], [3, 22, 1, 4], [12, 24, 3, 5], [10, 31, 2, 5], [15, 34, 1, 5], [11, 32, 3, 5], [3, 28, 2, 5], [12, 5, 1, 7], [8, 15, 4, 8], [16, 25, 1, 8], [12, 12, 1, 8], [17, 20, 4, 9], [12, 10, 3, 10], [12, 10, 4, 10], [9, 5, 4, 10], [1, 9, 3, 11], [6, 19, 4, 11], [15, 5, 2, 11], [17, 29, 4, 11], [8, 9, 3, 12], [12, 27, 1, 12], [12, 6, 3, 13], [7, 18, 1, 13], [9, 5, 3, 14], [12, 24, 3, 14], [1, 30, 3, 14]]\n",
            "crossover point : 10\n",
            "After\n",
            "[[8, 25, 4, 1], [17, 23, 4, 2], [13, 26, 4, 2], [17, 23, 4, 2], [10, 4, 4, 3], [2, 31, 3, 3], [4, 33, 4, 4], [14, 33, 2, 4], [1, 9, 4, 4], [12, 16, 4, 4], [7, 32, 2, 4], [3, 22, 1, 4], [12, 24, 3, 5], [10, 31, 2, 5], [15, 34, 1, 5], [11, 32, 3, 5], [3, 28, 2, 5], [12, 5, 1, 7], [8, 15, 4, 8], [16, 25, 1, 8], [12, 12, 1, 8], [17, 20, 4, 9], [12, 10, 3, 10], [12, 10, 4, 10], [9, 5, 4, 10], [1, 9, 3, 11], [6, 19, 4, 11], [15, 5, 2, 11], [17, 29, 4, 11], [8, 9, 3, 12], [12, 27, 1, 12], [12, 6, 3, 13], [7, 18, 1, 13], [9, 5, 3, 14], [12, 24, 3, 14], [1, 30, 3, 14]]\n",
            "[[11, 15, 1, 1], [13, 21, 3, 2], [16, 32, 1, 2], [13, 29, 3, 2], [10, 28, 4, 2], [6, 4, 1, 2], [11, 8, 1, 2], [17, 20, 2, 3], [6, 27, 3, 4], [15, 14, 4, 4], [11, 12, 1, 4], [7, 35, 1, 4], [13, 36, 1, 5], [10, 34, 4, 6], [2, 29, 2, 6], [6, 29, 3, 7], [17, 16, 2, 8], [4, 31, 1, 8], [7, 5, 4, 8], [12, 36, 3, 8], [5, 29, 2, 9], [13, 25, 4, 9], [4, 36, 2, 10], [6, 5, 2, 10], [3, 20, 2, 10], [14, 32, 1, 10], [6, 33, 2, 11], [3, 19, 2, 12], [15, 7, 2, 13], [12, 6, 2, 13], [7, 25, 3, 13], [16, 11, 2, 13], [10, 22, 1, 13], [11, 29, 2, 14], [2, 10, 3, 14], [4, 32, 2, 14]]\n",
            "[[8, 25, 4, 1], [17, 23, 4, 2], [13, 26, 4, 2], [17, 23, 4, 2], [10, 4, 4, 3], [2, 31, 3, 3], [4, 33, 4, 4], [14, 33, 2, 4], [1, 9, 4, 4], [12, 16, 4, 4], [7, 32, 2, 4], [3, 22, 1, 4], [12, 24, 3, 5], [10, 31, 2, 5], [15, 34, 1, 5], [11, 32, 3, 5], [3, 28, 2, 5], [12, 5, 1, 7], [8, 15, 4, 8], [16, 25, 1, 8], [12, 12, 1, 8], [17, 20, 4, 9], [12, 10, 3, 10], [12, 10, 4, 10], [9, 5, 4, 10], [1, 9, 3, 11], [6, 19, 4, 11], [15, 5, 2, 11], [17, 29, 4, 11], [8, 9, 3, 12], [12, 27, 1, 12], [12, 6, 3, 13], [7, 18, 1, 13], [9, 5, 3, 14], [12, 24, 3, 14], [1, 30, 3, 14]]\n"
          ]
        }
      ]
    },
    {
      "cell_type": "code",
      "source": [
        "def mutate(a,b, mut_rate):\n",
        "  n = len(a) + len(b)\n",
        "  print (n)\n",
        "  \n",
        "  total_mutation = int(abs(mut_rate * n))\n",
        "  if mut_rate > round(random.random(), 3):\n",
        "    print(\"Mutate\\n\")\n",
        "    print(\"Before\")\n",
        "    print(a)\n",
        "    print(b)\n",
        "    for i in range (total_mutation):\n",
        "      c = [random.randint(1, len(Dosen.dosen)),\n",
        "        random.randint(1, len(Matkul.matkul)),\n",
        "        random.randint(1, len(Ruang.ruang)),\n",
        "        random.randint(1, len(Waktu.waktu))]\n",
        "      x = random.randint(0,n)\n",
        "      # print(x)\n",
        "      if x <= 35 :\n",
        "        a[x] = c\n",
        "      else :\n",
        "        b[x-len(b)-1] = c\n",
        "    print(\"after\")\n",
        "    print(a)\n",
        "    print(b)\n",
        "  else:\n",
        "    print(\"Doesn't mutate\\n\")\n",
        "  # new_a = a\n",
        "  # neb_b = b\n",
        "  return a,b"
      ],
      "metadata": {
        "id": "9zPIC-H6mUz5"
      },
      "execution_count": 44,
      "outputs": []
    },
    {
      "cell_type": "code",
      "execution_count": 45,
      "metadata": {
        "id": "CsvISxtanfwy"
      },
      "outputs": [],
      "source": [
        "def evaluate(a,b,c):\n",
        "  a = list(a)\n",
        "  b = list(b)\n",
        "  c = list(c)\n",
        "  fit_a : float = fitness(a)\n",
        "  fit_b : float = fitness(b)\n",
        "  fit_c : float = fitness(c)\n",
        "\n",
        "  x1 = []\n",
        "  x2 = []\n",
        "  fit1 = 0.00\n",
        "  fit2 = 0.00\n",
        "  if fit_a > fit_b:\n",
        "    if fit_b > fit_c:\n",
        "      x1 = a\n",
        "      x2 = b\n",
        "      fit1 = fit_a\n",
        "      fit2 = fit_b\n",
        "    elif fit_c > fit_b:\n",
        "      x1 = a\n",
        "      x2 = c\n",
        "      fit1 = fit_a\n",
        "      fit2 = fit_c\n",
        "  elif fit_b > fit_a:\n",
        "    if fit_c > fit_a:\n",
        "      x1 = a\n",
        "      x2 = c\n",
        "      fit1 = fit_a\n",
        "      fit2 = fit_c\n",
        "\n",
        "  return x1,x2,fit1,fit2"
      ]
    },
    {
      "cell_type": "code",
      "source": [],
      "metadata": {
        "id": "hIJ5wXw3GEIA"
      },
      "execution_count": 45,
      "outputs": []
    },
    {
      "cell_type": "code",
      "source": [
        "def next_gen(a,b,c,d):\n",
        "  x1 = []\n",
        "  x2 = []\n",
        "  return x1,x2"
      ],
      "metadata": {
        "id": "jv6wBxZiKuLM"
      },
      "execution_count": 46,
      "outputs": []
    },
    {
      "cell_type": "code",
      "source": [
        "def best_cr(a,b,c,d):\n",
        "  x1 = []\n",
        "  return x1"
      ],
      "metadata": {
        "id": "h1N7zWlQL5a1"
      },
      "execution_count": 47,
      "outputs": []
    },
    {
      "cell_type": "code",
      "execution_count": 54,
      "metadata": {
        "id": "RUfLnNGNvOg6",
        "colab": {
          "base_uri": "https://localhost:8080/"
        },
        "outputId": "f3218194-ada1-4500-bcbb-5eb615b47408"
      },
      "outputs": [
        {
          "output_type": "stream",
          "name": "stdout",
          "text": [
            "Generation:  0\n",
            "Score:  50\n",
            "Score:  26\n",
            "Crossover\n",
            "\n",
            "Before\n",
            "[[8, 25, 4, 1], [17, 23, 4, 2], [13, 26, 4, 2], [17, 23, 4, 2], [10, 4, 4, 3], [2, 31, 3, 3], [4, 33, 4, 4], [14, 33, 2, 4], [1, 9, 4, 4], [12, 16, 4, 4], [11, 12, 1, 4], [7, 35, 1, 4], [13, 36, 1, 5], [10, 34, 4, 6], [2, 29, 2, 6], [6, 29, 3, 7], [17, 16, 2, 8], [4, 31, 1, 8], [7, 5, 4, 8], [12, 36, 3, 8], [5, 29, 2, 9], [13, 25, 4, 9], [4, 36, 2, 10], [6, 5, 2, 10], [3, 20, 2, 10], [14, 32, 1, 10], [6, 33, 2, 11], [3, 19, 2, 12], [15, 7, 2, 13], [12, 6, 2, 13], [7, 25, 3, 13], [16, 11, 2, 13], [10, 22, 1, 13], [11, 29, 2, 14], [2, 10, 3, 14], [4, 32, 2, 14]]\n",
            "[[11, 15, 1, 1], [13, 21, 3, 2], [16, 32, 1, 2], [13, 29, 3, 2], [10, 28, 4, 2], [6, 4, 1, 2], [11, 8, 1, 2], [17, 20, 2, 3], [6, 27, 3, 4], [15, 14, 4, 4], [7, 32, 2, 4], [3, 22, 1, 4], [12, 24, 3, 5], [10, 31, 2, 5], [15, 34, 1, 5], [11, 32, 3, 5], [3, 28, 2, 5], [12, 5, 1, 7], [8, 15, 4, 8], [16, 25, 1, 8], [12, 12, 1, 8], [17, 20, 4, 9], [12, 10, 3, 10], [12, 10, 4, 10], [9, 5, 4, 10], [1, 9, 3, 11], [6, 19, 4, 11], [15, 5, 2, 11], [17, 29, 4, 11], [8, 9, 3, 12], [12, 27, 1, 12], [12, 6, 3, 13], [7, 18, 1, 13], [9, 5, 3, 14], [12, 24, 3, 14], [1, 30, 3, 14]]\n",
            "crossover point : 34\n",
            "After\n",
            "[[8, 25, 4, 1], [17, 23, 4, 2], [13, 26, 4, 2], [17, 23, 4, 2], [10, 4, 4, 3], [2, 31, 3, 3], [4, 33, 4, 4], [14, 33, 2, 4], [1, 9, 4, 4], [12, 16, 4, 4], [11, 12, 1, 4], [7, 35, 1, 4], [13, 36, 1, 5], [10, 34, 4, 6], [2, 29, 2, 6], [6, 29, 3, 7], [17, 16, 2, 8], [4, 31, 1, 8], [7, 5, 4, 8], [12, 36, 3, 8], [5, 29, 2, 9], [13, 25, 4, 9], [4, 36, 2, 10], [6, 5, 2, 10], [3, 20, 2, 10], [14, 32, 1, 10], [6, 33, 2, 11], [3, 19, 2, 12], [15, 7, 2, 13], [12, 6, 2, 13], [7, 25, 3, 13], [16, 11, 2, 13], [10, 22, 1, 13], [11, 29, 2, 14], [12, 24, 3, 14], [1, 30, 3, 14]]\n",
            "[[11, 15, 1, 1], [13, 21, 3, 2], [16, 32, 1, 2], [13, 29, 3, 2], [10, 28, 4, 2], [6, 4, 1, 2], [11, 8, 1, 2], [17, 20, 2, 3], [6, 27, 3, 4], [15, 14, 4, 4], [7, 32, 2, 4], [3, 22, 1, 4], [12, 24, 3, 5], [10, 31, 2, 5], [15, 34, 1, 5], [11, 32, 3, 5], [3, 28, 2, 5], [12, 5, 1, 7], [8, 15, 4, 8], [16, 25, 1, 8], [12, 12, 1, 8], [17, 20, 4, 9], [12, 10, 3, 10], [12, 10, 4, 10], [9, 5, 4, 10], [1, 9, 3, 11], [6, 19, 4, 11], [15, 5, 2, 11], [17, 29, 4, 11], [8, 9, 3, 12], [12, 27, 1, 12], [12, 6, 3, 13], [7, 18, 1, 13], [9, 5, 3, 14], [2, 10, 3, 14], [4, 32, 2, 14]]\n",
            "72\n",
            "Doesn't mutate\n",
            "\n",
            "Score:  50\n",
            "Score:  26\n",
            "Score:  50\n",
            "Fitness a: 0.0196078431372549\n",
            "Score:  26\n",
            "Fitness b: 0.037037037037037035\n",
            "\n",
            "\n",
            "Generation:  1\n",
            "Score:  50\n",
            "Score:  26\n",
            "Crossover\n",
            "\n",
            "Before\n",
            "[[8, 25, 4, 1], [17, 23, 4, 2], [13, 26, 4, 2], [17, 23, 4, 2], [10, 4, 4, 3], [2, 31, 3, 3], [4, 33, 4, 4], [14, 33, 2, 4], [1, 9, 4, 4], [12, 16, 4, 4], [11, 12, 1, 4], [7, 35, 1, 4], [13, 36, 1, 5], [10, 34, 4, 6], [2, 29, 2, 6], [6, 29, 3, 7], [17, 16, 2, 8], [4, 31, 1, 8], [7, 5, 4, 8], [12, 36, 3, 8], [5, 29, 2, 9], [13, 25, 4, 9], [4, 36, 2, 10], [6, 5, 2, 10], [3, 20, 2, 10], [14, 32, 1, 10], [6, 33, 2, 11], [3, 19, 2, 12], [15, 7, 2, 13], [12, 6, 2, 13], [7, 25, 3, 13], [16, 11, 2, 13], [10, 22, 1, 13], [11, 29, 2, 14], [12, 24, 3, 14], [1, 30, 3, 14]]\n",
            "[[11, 15, 1, 1], [13, 21, 3, 2], [16, 32, 1, 2], [13, 29, 3, 2], [10, 28, 4, 2], [6, 4, 1, 2], [11, 8, 1, 2], [17, 20, 2, 3], [6, 27, 3, 4], [15, 14, 4, 4], [7, 32, 2, 4], [3, 22, 1, 4], [12, 24, 3, 5], [10, 31, 2, 5], [15, 34, 1, 5], [11, 32, 3, 5], [3, 28, 2, 5], [12, 5, 1, 7], [8, 15, 4, 8], [16, 25, 1, 8], [12, 12, 1, 8], [17, 20, 4, 9], [12, 10, 3, 10], [12, 10, 4, 10], [9, 5, 4, 10], [1, 9, 3, 11], [6, 19, 4, 11], [15, 5, 2, 11], [17, 29, 4, 11], [8, 9, 3, 12], [12, 27, 1, 12], [12, 6, 3, 13], [7, 18, 1, 13], [9, 5, 3, 14], [2, 10, 3, 14], [4, 32, 2, 14]]\n",
            "crossover point : 16\n",
            "After\n",
            "[[8, 25, 4, 1], [17, 23, 4, 2], [13, 26, 4, 2], [17, 23, 4, 2], [10, 4, 4, 3], [2, 31, 3, 3], [4, 33, 4, 4], [14, 33, 2, 4], [1, 9, 4, 4], [12, 16, 4, 4], [11, 12, 1, 4], [7, 35, 1, 4], [13, 36, 1, 5], [10, 34, 4, 6], [2, 29, 2, 6], [6, 29, 3, 7], [3, 28, 2, 5], [12, 5, 1, 7], [8, 15, 4, 8], [16, 25, 1, 8], [12, 12, 1, 8], [17, 20, 4, 9], [12, 10, 3, 10], [12, 10, 4, 10], [9, 5, 4, 10], [1, 9, 3, 11], [6, 19, 4, 11], [15, 5, 2, 11], [17, 29, 4, 11], [8, 9, 3, 12], [12, 27, 1, 12], [12, 6, 3, 13], [7, 18, 1, 13], [9, 5, 3, 14], [2, 10, 3, 14], [4, 32, 2, 14]]\n",
            "[[11, 15, 1, 1], [13, 21, 3, 2], [16, 32, 1, 2], [13, 29, 3, 2], [10, 28, 4, 2], [6, 4, 1, 2], [11, 8, 1, 2], [17, 20, 2, 3], [6, 27, 3, 4], [15, 14, 4, 4], [7, 32, 2, 4], [3, 22, 1, 4], [12, 24, 3, 5], [10, 31, 2, 5], [15, 34, 1, 5], [11, 32, 3, 5], [17, 16, 2, 8], [4, 31, 1, 8], [7, 5, 4, 8], [12, 36, 3, 8], [5, 29, 2, 9], [13, 25, 4, 9], [4, 36, 2, 10], [6, 5, 2, 10], [3, 20, 2, 10], [14, 32, 1, 10], [6, 33, 2, 11], [3, 19, 2, 12], [15, 7, 2, 13], [12, 6, 2, 13], [7, 25, 3, 13], [16, 11, 2, 13], [10, 22, 1, 13], [11, 29, 2, 14], [12, 24, 3, 14], [1, 30, 3, 14]]\n",
            "72\n",
            "Mutate\n",
            "\n",
            "Before\n",
            "[[8, 25, 4, 1], [17, 23, 4, 2], [13, 26, 4, 2], [17, 23, 4, 2], [10, 4, 4, 3], [2, 31, 3, 3], [4, 33, 4, 4], [14, 33, 2, 4], [1, 9, 4, 4], [12, 16, 4, 4], [11, 12, 1, 4], [7, 35, 1, 4], [13, 36, 1, 5], [10, 34, 4, 6], [2, 29, 2, 6], [6, 29, 3, 7], [3, 28, 2, 5], [12, 5, 1, 7], [8, 15, 4, 8], [16, 25, 1, 8], [12, 12, 1, 8], [17, 20, 4, 9], [12, 10, 3, 10], [12, 10, 4, 10], [9, 5, 4, 10], [1, 9, 3, 11], [6, 19, 4, 11], [15, 5, 2, 11], [17, 29, 4, 11], [8, 9, 3, 12], [12, 27, 1, 12], [12, 6, 3, 13], [7, 18, 1, 13], [9, 5, 3, 14], [2, 10, 3, 14], [4, 32, 2, 14]]\n",
            "[[11, 15, 1, 1], [13, 21, 3, 2], [16, 32, 1, 2], [13, 29, 3, 2], [10, 28, 4, 2], [6, 4, 1, 2], [11, 8, 1, 2], [17, 20, 2, 3], [6, 27, 3, 4], [15, 14, 4, 4], [7, 32, 2, 4], [3, 22, 1, 4], [12, 24, 3, 5], [10, 31, 2, 5], [15, 34, 1, 5], [11, 32, 3, 5], [17, 16, 2, 8], [4, 31, 1, 8], [7, 5, 4, 8], [12, 36, 3, 8], [5, 29, 2, 9], [13, 25, 4, 9], [4, 36, 2, 10], [6, 5, 2, 10], [3, 20, 2, 10], [14, 32, 1, 10], [6, 33, 2, 11], [3, 19, 2, 12], [15, 7, 2, 13], [12, 6, 2, 13], [7, 25, 3, 13], [16, 11, 2, 13], [10, 22, 1, 13], [11, 29, 2, 14], [12, 24, 3, 14], [1, 30, 3, 14]]\n",
            "after\n",
            "[[8, 25, 4, 1], [17, 23, 4, 2], [13, 26, 4, 2], [17, 23, 4, 2], [10, 4, 4, 3], [2, 31, 3, 3], [4, 33, 4, 4], [14, 33, 2, 4], [3, 29, 2, 1], [12, 16, 4, 4], [11, 12, 1, 4], [7, 35, 1, 4], [13, 36, 1, 5], [10, 34, 4, 6], [2, 29, 2, 6], [6, 29, 3, 7], [3, 28, 2, 5], [12, 5, 1, 7], [8, 15, 4, 8], [16, 25, 1, 8], [12, 12, 1, 8], [9, 36, 2, 1], [12, 10, 3, 10], [12, 10, 4, 10], [9, 5, 4, 10], [8, 18, 4, 11], [6, 19, 4, 11], [15, 5, 2, 11], [17, 29, 4, 11], [8, 9, 3, 12], [12, 27, 1, 12], [12, 6, 3, 13], [7, 18, 1, 13], [9, 5, 3, 14], [2, 10, 3, 14], [4, 32, 2, 14]]\n",
            "[[11, 15, 1, 1], [10, 30, 4, 1], [16, 32, 1, 2], [13, 29, 3, 2], [10, 28, 4, 2], [6, 4, 1, 2], [11, 8, 1, 2], [17, 20, 2, 3], [6, 27, 3, 4], [15, 14, 4, 4], [7, 32, 2, 4], [3, 22, 1, 4], [12, 24, 3, 5], [10, 31, 2, 5], [15, 34, 1, 5], [11, 32, 3, 5], [17, 16, 2, 8], [4, 31, 1, 8], [7, 5, 4, 8], [1, 1, 2, 7], [5, 29, 2, 9], [13, 25, 4, 9], [5, 28, 2, 11], [6, 5, 2, 10], [3, 20, 2, 10], [14, 32, 1, 10], [6, 33, 2, 11], [3, 19, 2, 12], [15, 7, 2, 13], [12, 6, 2, 13], [7, 25, 3, 13], [16, 12, 1, 3], [10, 22, 1, 13], [11, 29, 2, 14], [12, 24, 3, 14], [1, 30, 3, 14]]\n",
            "Score:  76\n",
            "Score:  0\n",
            "Score:  76\n",
            "Fitness a: 0.012987012987012988\n",
            "Score:  0\n",
            "Fitness b: 1.0\n",
            "\n",
            "\n",
            "Jadwal Semester Ganjil\n"
          ]
        }
      ],
      "source": [
        "def gA(a,b,rate):\n",
        "  generation = 0\n",
        "  score1 = 0.00\n",
        "  score2 = 0.00\n",
        "  best = []\n",
        "  while True:\n",
        "    if generation == 500 or score1 == 1.00 or score2 == 1.00:\n",
        "      cetak(best)\n",
        "      break\n",
        "    else:\n",
        "      print(\"Generation: \", generation)\n",
        "      a = sorting(a)\n",
        "      b = sorting(b)\n",
        "      score1 = fitness(a)\n",
        "      score2 = fitness(b)\n",
        "      # c = cross(a,b)\n",
        "      a,b = crossover(a,b)\n",
        "      a,b = mutate(a,b,rate)\n",
        "      # c,d = crossover(a,b)\n",
        "      # c,d = mutate(a,b,rate)\n",
        "      score1 = fitness(a)\n",
        "      score2 = fitness(b)\n",
        "      # best = best_cr(a,b,c,d)\n",
        "      # a,b = next_gen(a,b,c,d)\n",
        "      \n",
        "      print(\"Fitness a:\", fitness(a))\n",
        "      print(\"Fitness b:\", fitness(b))\n",
        "      print(\"\\n\")\n",
        "      generation = generation+1\n",
        "      \n",
        "\n",
        "\n",
        "gA(individu1,individu2,0.1)    "
      ]
    },
    {
      "cell_type": "code",
      "source": [
        "x = [[11, 15, 1, 1], [10, 30, 4, 1], [16, 32, 1, 2], [13, 29, 3, 2], [10, 28, 4, 2], [6, 4, 1, 2], [11, 8, 1, 2], [17, 20, 2, 3], [6, 27, 3, 4], [15, 14, 4, 4], [7, 32, 2, 4], [3, 22, 1, 4], [12, 24, 3, 5], [10, 31, 2, 5], [15, 34, 1, 5], [11, 32, 3, 5], [17, 16, 2, 8], [4, 31, 1, 8], [7, 5, 4, 8], [1, 1, 2, 7], [5, 29, 2, 9], [13, 25, 4, 9], [5, 28, 2, 11], [6, 5, 2, 10], [3, 20, 2, 10], [14, 32, 1, 10], [6, 33, 2, 11], [3, 19, 2, 12], [15, 7, 2, 13], [12, 6, 2, 13], [7, 25, 3, 13], [16, 12, 1, 3], [10, 22, 1, 13], [11, 29, 2, 14], [12, 24, 3, 14], [1, 30, 3, 14]]\n",
        "print(cek_matkul(x))\n",
        "x = sorting(x)\n",
        "print(x)\n",
        "n = fitness(x)\n",
        "print(cek_matkul(x))\n",
        "\n",
        "cetak(x)"
      ],
      "metadata": {
        "colab": {
          "base_uri": "https://localhost:8080/"
        },
        "id": "CM81CPzXn41M",
        "outputId": "1e7855a9-f539-4932-92cb-d2b5be668959"
      },
      "execution_count": 61,
      "outputs": [
        {
          "output_type": "stream",
          "name": "stdout",
          "text": [
            "0\n",
            "[[11, 15, 1, 1], [10, 30, 4, 1], [16, 32, 1, 2], [13, 29, 3, 2], [10, 28, 4, 2], [6, 4, 1, 2], [11, 8, 1, 2], [17, 20, 2, 3], [16, 12, 1, 3], [6, 27, 3, 4], [15, 14, 4, 4], [7, 32, 2, 4], [3, 22, 1, 4], [12, 24, 3, 5], [10, 31, 2, 5], [15, 34, 1, 5], [11, 32, 3, 5], [1, 1, 2, 7], [17, 16, 2, 8], [4, 31, 1, 8], [7, 5, 4, 8], [5, 29, 2, 9], [13, 25, 4, 9], [6, 5, 2, 10], [3, 20, 2, 10], [14, 32, 1, 10], [5, 28, 2, 11], [6, 33, 2, 11], [3, 19, 2, 12], [15, 7, 2, 13], [12, 6, 2, 13], [7, 25, 3, 13], [10, 22, 1, 13], [11, 29, 2, 14], [12, 24, 3, 14], [1, 30, 3, 14]]\n",
            "Score:  0\n",
            "0\n",
            "Jadwal Semester Ganjil\n",
            "Hari: Senin, Pukul: 07.30-10.00  |  Ruang: B211  |  Matkul: Desain Dan Rekayasa Sistem A  |  Dosen: Atar Fuady Babgei, S.T., M.Sc.\n",
            "Hari: Senin, Pukul: 07.30-10.00  |  Ruang: A108  |  Matkul: Jaringan Komputer A  |  Dosen: Muhtadin, S.T., M.T.\n",
            "Hari: Senin, Pukul: 10.00-12.30  |  Ruang: B211  |  Matkul: Deep Learning untuk Multimedia A  |  Dosen: Reza Fuad Rachmadi, S.T.,M.T.,Ph.D\n",
            "Hari: Senin, Pukul: 10.00-12.30  |  Ruang: A235  |  Matkul: Sekuriti Sistem Komputer A  |  Dosen: Dr. Supeno Mardi Susiki Nugroho, S.T., M.T.\n",
            "Hari: Senin, Pukul: 10.00-12.30  |  Ruang: A108  |  Matkul: Probabilitas dan Statistik A  |  Dosen: Muhtadin, S.T., M.T.\n",
            "Hari: Senin, Pukul: 10.00-12.30  |  Ruang: B211  |  Matkul: Sistem Manajemen Basis Data B  |  Dosen: Prof. Dr. Ir. Mauridhi Hery Purnomo, M.Eng.\n",
            "Hari: Senin, Pukul: 10.00-12.30  |  Ruang: B211  |  Matkul: Rangkaian Digital A  |  Dosen: Atar Fuady Babgei, S.T., M.Sc.\n",
            "Hari: Senin, Pukul: 13.30-16.00  |  Ruang: A234  |  Matkul: Arsitektur dan Organisasi Sistem Komputer B  |  Dosen: Dion Hayu Fandiantoro, S.T., M.Eng.\n",
            "Hari: Senin, Pukul: 13.30-16.00  |  Ruang: B211  |  Matkul: Proyek Telematika A  |  Dosen: Reza Fuad Rachmadi, S.T.,M.T.,Ph.D\n",
            "Hari: Selasa, Pukul: 07.30-10.00  |  Ruang: A235  |  Matkul: Visi Komputer A  |  Dosen: Prof. Dr. Ir. Mauridhi Hery Purnomo, M.Eng.\n",
            "Hari: Selasa, Pukul: 07.30-10.00  |  Ruang: A108  |  Matkul: Persamaan Differensial dan Deret A  |  Dosen: Ahmad Zaini, S.T., M.Sc.\n",
            "Hari: Selasa, Pukul: 07.30-10.00  |  Ruang: A234  |  Matkul: Deep Learning untuk Multimedia A  |  Dosen: Dr. Surya Sumpeno, S.T.,M.Sc.\n",
            "Hari: Selasa, Pukul: 07.30-10.00  |  Ruang: B211  |  Matkul: Persepsi Robot A  |  Dosen: Dr. I Ketut Eddy Purnama, S.T.,M.T.\n",
            "Hari: Selasa, Pukul: 10.00-12.30  |  Ruang: A235  |  Matkul: Sistem Tertanam A  |  Dosen: Mochamad Hariadi, S.T.,M.Sc.,Ph.D\n",
            "Hari: Selasa, Pukul: 10.00-12.30  |  Ruang: A234  |  Matkul: Jaringan Komputer B  |  Dosen: Muhtadin, S.T., M.T.\n",
            "Hari: Selasa, Pukul: 10.00-12.30  |  Ruang: B211  |  Matkul: Rangkaian Listrik B  |  Dosen: Ahmad Zaini, S.T., M.Sc.\n",
            "Hari: Selasa, Pukul: 10.00-12.30  |  Ruang: A235  |  Matkul: Deep Learning untuk Multimedia A  |  Dosen: Atar Fuady Babgei, S.T., M.Sc.\n",
            "Hari: Rabu, Pukul: 07.30-10.00  |  Ruang: A234  |  Matkul: Matematika Diskrit A  |  Dosen: Dr. Eko Mulyanto Yuniarno, S.T.,M.T.\n",
            "Hari: Rabu, Pukul: 10.00-12.30  |  Ruang: A234  |  Matkul: Desain Dan Rekayasa Sistem B  |  Dosen: Dion Hayu Fandiantoro, S.T., M.Eng.\n",
            "Hari: Rabu, Pukul: 10.00-12.30  |  Ruang: B211  |  Matkul: Jaringan Komputer B  |  Dosen: Ir. Hany Boedinugroho, M.T.\n",
            "Hari: Rabu, Pukul: 10.00-12.30  |  Ruang: A108  |  Matkul: Pemrograman Lanjut A  |  Dosen: Dr. Surya Sumpeno, S.T.,M.Sc.\n",
            "Hari: Rabu, Pukul: 13.30-16.00  |  Ruang: A234  |  Matkul: Sekuriti Sistem Komputer A  |  Dosen: Prof. Dr. Ir. Yoyon Kusnendar Suprapto, M.Sc.\n",
            "Hari: Rabu, Pukul: 13.30-16.00  |  Ruang: A108  |  Matkul: Pengolahan Sinyal Digital A  |  Dosen: Dr. Supeno Mardi Susiki Nugroho, S.T., M.T.\n",
            "Hari: Kamis, Pukul: 07.30-10.00  |  Ruang: A234  |  Matkul: Pemrograman Lanjut A  |  Dosen: Prof. Dr. Ir. Mauridhi Hery Purnomo, M.Eng.\n",
            "Hari: Kamis, Pukul: 07.30-10.00  |  Ruang: A234  |  Matkul: Arsitektur dan Organisasi Sistem Komputer B  |  Dosen: Dr. I Ketut Eddy Purnama, S.T.,M.T.\n",
            "Hari: Kamis, Pukul: 07.30-10.00  |  Ruang: B211  |  Matkul: Deep Learning untuk Multimedia A  |  Dosen: Susi Juniastuti, S.T.,M.Eng.\n",
            "Hari: Kamis, Pukul: 10.00-12.30  |  Ruang: A234  |  Matkul: Probabilitas dan Statistik A  |  Dosen: Prof. Dr. Ir. Yoyon Kusnendar Suprapto, M.Sc.\n",
            "Hari: Kamis, Pukul: 10.00-12.30  |  Ruang: A234  |  Matkul: Rangkaian Listrik A  |  Dosen: Prof. Dr. Ir. Mauridhi Hery Purnomo, M.Eng.\n",
            "Hari: Kamis, Pukul: 13.30-16.00  |  Ruang: A234  |  Matkul: Arsitektur dan Organisasi Sistem Komputer A  |  Dosen: Dr. I Ketut Eddy Purnama, S.T.,M.T.\n",
            "Hari: Jumat, Pukul: 07.30-10.00  |  Ruang: A234  |  Matkul: Sistem Operasi A  |  Dosen: Ahmad Zaini, S.T., M.Sc.\n",
            "Hari: Jumat, Pukul: 07.30-10.00  |  Ruang: A234  |  Matkul: Pemrograman Lanjut B  |  Dosen: Mochamad Hariadi, S.T.,M.Sc.,Ph.D\n",
            "Hari: Jumat, Pukul: 07.30-10.00  |  Ruang: A235  |  Matkul: Pengolahan Sinyal Digital A  |  Dosen: Dr. Surya Sumpeno, S.T.,M.Sc.\n",
            "Hari: Jumat, Pukul: 07.30-10.00  |  Ruang: B211  |  Matkul: Persepsi Robot A  |  Dosen: Muhtadin, S.T., M.T.\n",
            "Hari: Jumat, Pukul: 13.30-16.00  |  Ruang: A234  |  Matkul: Sekuriti Sistem Komputer A  |  Dosen: Atar Fuady Babgei, S.T., M.Sc.\n",
            "Hari: Jumat, Pukul: 13.30-16.00  |  Ruang: A235  |  Matkul: Sistem Tertanam A  |  Dosen: Mochamad Hariadi, S.T.,M.Sc.,Ph.D\n",
            "Hari: Jumat, Pukul: 13.30-16.00  |  Ruang: A235  |  Matkul: Jaringan Komputer A  |  Dosen: Dr. Eko Mulyanto Yuniarno, S.T.,M.T.\n"
          ]
        }
      ]
    },
    {
      "cell_type": "code",
      "execution_count": null,
      "metadata": {
        "id": "1nDKkiHdjTr0"
      },
      "outputs": [],
      "source": [
        "score: float = 0.0\n",
        "generation = 0\n",
        "  \n",
        "# def fitness(population):\n",
        "#   global score\n",
        "\n"
      ]
    },
    {
      "cell_type": "code",
      "execution_count": null,
      "metadata": {
        "id": "87a224lsQjQY"
      },
      "outputs": [],
      "source": [
        "# population = [5]\n",
        "# def init_gen(total_pop, dosen, ruang, waktu):\n",
        "#   global population\n",
        "#   for i in range (total_pop):\n",
        "#     # print(ruang)\n",
        "#     population[i] = [[random.randint(1, dosen), \n",
        "#                       #  random.randint(1, len(Matkul.matkul)),\n",
        "#                       random.randint(1, ruang),\n",
        "#                       random.randint(1, waktu)\n",
        "#                       ] for j in range (ruang*waktu)]\n",
        "#     # print(\"populasi ke \" + i + \":\" + population[i])\n",
        "\n",
        "# init_gen(3, len(Dosen.dosen), len(Ruang.ruang), len(Waktu.waktu))\n"
      ]
    },
    {
      "cell_type": "code",
      "source": [
        "# a = []\n",
        "# for i in range (1):\n",
        "#   individu = [[random.randint(1, len(Dosen.dosen)), \n",
        "#               random.randint(1, len(Matkul.matkul)),\n",
        "#                random.randint(1, len(Ruang.ruang)),\n",
        "#                random.randint(1, len(Waktu.waktu))\n",
        "#                ] \n",
        "#               for i in range (len(Ruang.ruang)*len(Waktu.waktu))]\n",
        "#   sort(individu)\n",
        "#   print(individu)\n",
        "#   a.append(individu)\n",
        "\n",
        "# print(a)\n",
        "  "
      ],
      "metadata": {
        "id": "dSUcfalxfUTc"
      },
      "execution_count": null,
      "outputs": []
    }
  ],
  "metadata": {
    "colab": {
      "provenance": [],
      "authorship_tag": "ABX9TyOLufq0w2kE2XVBHgdo4yT+",
      "include_colab_link": true
    },
    "kernelspec": {
      "display_name": "Python 3",
      "name": "python3"
    },
    "language_info": {
      "name": "python"
    }
  },
  "nbformat": 4,
  "nbformat_minor": 0
}