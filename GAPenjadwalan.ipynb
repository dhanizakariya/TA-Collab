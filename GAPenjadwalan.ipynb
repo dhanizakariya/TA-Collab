{
  "cells": [
    {
      "cell_type": "markdown",
      "metadata": {
        "id": "view-in-github",
        "colab_type": "text"
      },
      "source": [
        "<a href=\"https://colab.research.google.com/github/dhanizakariya/TA-Collab/blob/main/GAPenjadwalan.ipynb\" target=\"_parent\"><img src=\"https://colab.research.google.com/assets/colab-badge.svg\" alt=\"Open In Colab\"/></a>"
      ]
    },
    {
      "cell_type": "code",
      "execution_count": 2,
      "metadata": {
        "id": "vQPD6BZMBHoR"
      },
      "outputs": [],
      "source": [
        "import random, copy\n",
        "from math import ceil, log2\n",
        "import math\n",
        "import pandas as pd\n",
        "import numpy as np\n",
        "from collections import OrderedDict"
      ]
    },
    {
      "cell_type": "code",
      "execution_count": 3,
      "metadata": {
        "id": "YGmBQl3RuesI"
      },
      "outputs": [],
      "source": [
        "class Dosen :\n",
        "  dosen = None\n",
        "\n",
        "  def __init__(self,name):\n",
        "    self.name = name\n",
        "\n",
        "  @staticmethod\n",
        "  def find(name):\n",
        "    for i in range (len(Dosen.dosen)):\n",
        "      if Dosen.dosen[i].name == name:\n",
        "        return i\n",
        "    return -1\n",
        "\n",
        "  def __repr__(self):\n",
        "    return \"Dosen: \" + self.name\n",
        "\n",
        "\n",
        "class Kelas :\n",
        "  kelas = None\n",
        "\n",
        "  def __init__(self,name, size):\n",
        "    self.name = name\n",
        "    self.size = size\n",
        "\n",
        "  @staticmethod\n",
        "  def find(name):\n",
        "    for i in range (len(Kelas.kelas)):\n",
        "      if Kelas.kelas[i].name == name:\n",
        "        return i\n",
        "    return -1\n",
        "\n",
        "  def __repr__(self):\n",
        "    return \"Kelas: \" + self.name\n",
        "\n",
        "class Matkul :\n",
        "  mamtkul = None\n",
        "\n",
        "  def __init__(self,name, status = False):\n",
        "    self.name = name\n",
        "    self.status = status\n",
        "\n",
        "  @staticmethod\n",
        "  def find(name):\n",
        "    for i in range (len(Matkul.matkul)):\n",
        "      if Matkul.matkul[i].name == name:\n",
        "        return i\n",
        "    return -1\n",
        "\n",
        "  def __repr__(self):\n",
        "    return \"Matkul: \" + self.name\n",
        "\n",
        "\n",
        "class Ruang :\n",
        "  ruang = None\n",
        "\n",
        "  def __init__(self,name, size, status = True):\n",
        "    self.name = name\n",
        "    self.size = size\n",
        "    self.status = status\n",
        "\n",
        "  @staticmethod\n",
        "  def find(name):\n",
        "    for i in range (len(Ruang.ruang)):\n",
        "      if Ruang.ruang[i].name == name:\n",
        "        return i\n",
        "    return -1\n",
        "\n",
        "  def __repr__(self):\n",
        "    return \"Ruang: \" + self.name\n",
        "\n",
        "class Waktu :\n",
        "  waktu = None\n",
        "\n",
        "  def __init__(self, hari, mulai, selesai,  status_slot = False):\n",
        "    self.mulai = mulai\n",
        "    self.selesai = selesai\n",
        "    self.hari = hari\n",
        "    self.status_slot = status_slot\n",
        "\n",
        "  def __repr__(self):\n",
        "    return \"Hari: \" + self.hari + \", Pukul: \" + self.mulai + \"-\" + self.selesai\n",
        "      \n",
        "  "
      ]
    },
    {
      "cell_type": "code",
      "execution_count": 4,
      "metadata": {
        "id": "OJHotco1oFHe"
      },
      "outputs": [],
      "source": [
        "Dosen.dosen = [Dosen(\"Dr. Eko Mulyanto Yuniarno, S.T.,M.T.\"),\n",
        "               Dosen(\"Dr. Diah Puspito Wulandari, S.T.,M.Sc.\"),\n",
        "               Dosen(\"Dr. I Ketut Eddy Purnama, S.T.,M.T.\"),\n",
        "               Dosen(\"Ir. Hany Boedinugroho, M.T.\"),\n",
        "               Dosen(\"Prof. Dr. Ir. Yoyon Kusnendar Suprapto, M.Sc.\"),\n",
        "               Dosen(\"Prof. Dr. Ir. Mauridhi Hery Purnomo, M.Eng.\"),\n",
        "               Dosen(\"Dr. Surya Sumpeno, S.T.,M.Sc.\"),\n",
        "               Dosen(\"Eko Pramunanto, S.T., M.T.\"),\n",
        "               Dosen(\"Arief Kurniawan, S.T., M.T.\"),\n",
        "               Dosen(\"Muhtadin, S.T., M.T.\"),\n",
        "               Dosen(\"Atar Fuady Babgei, S.T., M.Sc.\"),\n",
        "               Dosen(\"Mochamad Hariadi, S.T.,M.Sc.,Ph.D\"),\n",
        "               Dosen(\"Dr. Supeno Mardi Susiki Nugroho, S.T., M.T.\"),\n",
        "               Dosen(\"Susi Juniastuti, S.T.,M.Eng.\"),\n",
        "               Dosen(\"Ahmad Zaini, S.T., M.Sc.\"),\n",
        "               Dosen(\"Reza Fuad Rachmadi, S.T.,M.T.,Ph.D\"),\n",
        "               Dosen(\"Dion Hayu Fandiantoro, S.T., M.Eng.\")\n",
        "               ]\n",
        "\n",
        "Kelas.kelas = [Kelas(\"A\", 10),\n",
        "               Kelas(\"B\", 30)]\n",
        "\n",
        "Matkul.matkul = [Matkul(\"Matematika Diskrit A\"),\n",
        "                 Matkul(\"Matematika Diskrit B\"),\n",
        "                 Matkul(\"Sistem Manajemen Basis Data A\"),\n",
        "                 Matkul(\"Sistem Manajemen Basis Data B\"),\n",
        "                 Matkul(\"Pemrograman Lanjut A\"),\n",
        "                 Matkul(\"Pemrograman Lanjut B\"),\n",
        "                 Matkul(\"Sistem Operasi A\"),\n",
        "                 Matkul(\"Rangkaian Digital A\"),\n",
        "                 Matkul(\"Metode Numerik A\"),\n",
        "                 Matkul(\"Metode Numerik B\"),\n",
        "                 Matkul(\"Metode Numerik C\"),\n",
        "                 Matkul(\"Proyek Telematika A\"),\n",
        "                 Matkul(\"Aljabar Linear A\"),\n",
        "                 Matkul(\"Persamaan Differensial dan Deret A\"),\n",
        "                 Matkul(\"Desain Dan Rekayasa Sistem A\"),\n",
        "                 Matkul(\"Desain Dan Rekayasa Sistem B\"),\n",
        "                 Matkul(\"Pemrograman Sistem dan Jaringan A\"),\n",
        "                 Matkul(\"Desain Pemrograman Game A\"),\n",
        "                 Matkul(\"Arsitektur dan Organisasi Sistem Komputer A\"),\n",
        "                 Matkul(\"Arsitektur dan Organisasi Sistem Komputer B\"),\n",
        "                 Matkul(\"Sistem Mikroprosesor dan Mikrokontroller A\"),\n",
        "                 Matkul(\"Persepsi Robot A\"),\n",
        "                 Matkul(\"Pra Tugas Akhir A\"),\n",
        "                 Matkul(\"Sistem Tertanam A\"),\n",
        "                 Matkul(\"Pengolahan Sinyal Digital A\"),\n",
        "                 Matkul(\"Pengantar Robotika A\"),\n",
        "                 Matkul(\"Visi Komputer A\"),\n",
        "                 Matkul(\"Probabilitas dan Statistik A\"),\n",
        "                 Matkul(\"Sekuriti Sistem Komputer A\"),\n",
        "                 Matkul(\"Jaringan Komputer A\"),\n",
        "                 Matkul(\"Jaringan Komputer B\"),\n",
        "                 Matkul(\"Deep Learning untuk Multimedia A\"),\n",
        "                 Matkul(\"Rangkaian Listrik A\"),\n",
        "                 Matkul(\"Rangkaian Listrik B\"),\n",
        "                 Matkul(\"Dasar Pemrograman P\"),\n",
        "                 Matkul(\"Desain Pemrograman Game P\")]\n",
        "\n",
        "Ruang.ruang = [Ruang(\"B211\", 40),\n",
        "               Ruang(\"A234\", 40),\n",
        "               Ruang(\"A235\", 40),\n",
        "               Ruang(\"A108\", 40)\n",
        "              ]\n",
        "\n",
        "Waktu.waktu = [Waktu(\"Senin\",\"07.30\",\"10.00\"),\n",
        "               Waktu(\"Senin\",\"10.00\",\"12.30\"),\n",
        "               Waktu(\"Senin\",\"13.30\",\"16.00\"),\n",
        "               Waktu(\"Selasa\",\"07.30\",\"10.00\"),\n",
        "               Waktu(\"Selasa\",\"10.00\",\"12.30\"),\n",
        "               Waktu(\"Selasa\",\"13.30\",\"16.00\"),\n",
        "               Waktu(\"Rabu\",\"07.30\",\"10.00\"),\n",
        "               Waktu(\"Rabu\",\"10.00\",\"12.30\"),\n",
        "               Waktu(\"Rabu\",\"13.30\",\"16.00\"),\n",
        "               Waktu(\"Kamis\",\"07.30\",\"10.00\"),\n",
        "               Waktu(\"Kamis\",\"10.00\",\"12.30\"),\n",
        "               Waktu(\"Kamis\",\"13.30\",\"16.00\"),\n",
        "               Waktu(\"Jumat\",\"07.30\",\"10.00\"),\n",
        "              #  Waktu(\"Jumat\",\"10.00\",\"12.30\"),\n",
        "               Waktu(\"Jumat\",\"13.30\",\"16.00\"),\n",
        "               ]\n",
        "\n"
      ]
    },
    {
      "cell_type": "code",
      "execution_count": 5,
      "metadata": {
        "colab": {
          "base_uri": "https://localhost:8080/"
        },
        "id": "uFmOdaMcSFm2",
        "outputId": "62372cf2-a684-451b-87d7-051c80c9a45d"
      },
      "outputs": [
        {
          "output_type": "stream",
          "name": "stdout",
          "text": [
            "Dosen: Dr. Diah Puspito Wulandari, S.T.,M.Sc.\n"
          ]
        }
      ],
      "source": [
        "print(Dosen.dosen[1])"
      ]
    },
    {
      "cell_type": "code",
      "execution_count": 6,
      "metadata": {
        "colab": {
          "base_uri": "https://localhost:8080/"
        },
        "id": "NzZYLQExm-or",
        "outputId": "705bc2ff-7d32-49df-c596-54059746c3d2"
      },
      "outputs": [
        {
          "output_type": "stream",
          "name": "stdout",
          "text": [
            "[[9, 35, 2, 4], [16, 4, 4, 10], [11, 16, 2, 7], [9, 2, 1, 5], [6, 25, 4, 2], [14, 33, 2, 12], [13, 24, 3, 6], [1, 25, 1, 5], [4, 7, 3, 14], [4, 28, 1, 9], [14, 28, 1, 2], [2, 14, 3, 1], [1, 34, 4, 7], [8, 3, 2, 11], [7, 27, 2, 4], [11, 18, 4, 10], [9, 3, 1, 3], [11, 35, 4, 1], [8, 5, 1, 4], [17, 16, 2, 7], [8, 24, 4, 12], [13, 8, 1, 1], [14, 10, 1, 11], [2, 28, 3, 6], [7, 13, 1, 8], [7, 7, 1, 1], [9, 25, 2, 13], [4, 22, 2, 13], [2, 23, 1, 9], [4, 3, 4, 10], [17, 4, 4, 12], [17, 7, 2, 4], [2, 27, 3, 7], [13, 14, 1, 9], [1, 22, 3, 12], [13, 15, 2, 13]]\n",
            "[[15, 35, 1, 7], [1, 20, 2, 10], [1, 35, 4, 4], [17, 1, 3, 9], [13, 8, 4, 7], [8, 6, 4, 3], [2, 1, 2, 8], [5, 4, 3, 5], [9, 35, 4, 5], [16, 11, 2, 1], [1, 5, 4, 12], [1, 12, 3, 7], [4, 19, 3, 5], [11, 32, 2, 6], [15, 15, 2, 12], [8, 30, 3, 5], [17, 31, 4, 10], [11, 23, 3, 4], [12, 7, 2, 9], [6, 19, 3, 2], [6, 30, 3, 7], [15, 12, 1, 13], [4, 20, 3, 9], [7, 10, 2, 10], [14, 29, 2, 6], [5, 11, 2, 6], [9, 36, 2, 6], [14, 14, 1, 10], [15, 36, 1, 8], [6, 12, 1, 12], [10, 36, 1, 2], [16, 10, 2, 13], [5, 9, 1, 6], [9, 23, 1, 1], [6, 5, 2, 14], [2, 36, 1, 2]]\n"
          ]
        }
      ],
      "source": [
        "individu1 = [[random.randint(1, len(Dosen.dosen)), \n",
        "              random.randint(1, len(Matkul.matkul)),\n",
        "               random.randint(1, len(Ruang.ruang)),\n",
        "               random.randint(1, len(Waktu.waktu))\n",
        "               ] \n",
        "              for i in range (len(Matkul.matkul))]\n",
        "\n",
        "individu2 = [[random.randint(1, len(Dosen.dosen)), \n",
        "              random.randint(1, len(Matkul.matkul)),\n",
        "               random.randint(1, len(Ruang.ruang)),\n",
        "               random.randint(1, len(Waktu.waktu))\n",
        "               ] \n",
        "              for i in range (len(Matkul.matkul))]\n",
        "print(individu1)\n",
        "print(individu2)"
      ]
    },
    {
      "cell_type": "code",
      "source": [
        "print(len(individu1))"
      ],
      "metadata": {
        "colab": {
          "base_uri": "https://localhost:8080/"
        },
        "id": "7gZEIELzrxm9",
        "outputId": "2e568bbb-7a1a-4be1-8a17-c71f2b1ab97f"
      },
      "execution_count": 7,
      "outputs": [
        {
          "output_type": "stream",
          "name": "stdout",
          "text": [
            "36\n"
          ]
        }
      ]
    },
    {
      "cell_type": "code",
      "execution_count": 8,
      "metadata": {
        "id": "FsBWIXqdGV3a"
      },
      "outputs": [],
      "source": [
        "def sorting(sub_li):\n",
        "    l = len(sub_li)\n",
        "    for i in range(0, l):\n",
        "        for j in range(0, l-i-1):\n",
        "            if (sub_li[j][3] > sub_li[j + 1][3]):\n",
        "                tempo = sub_li[j]\n",
        "                sub_li[j]= sub_li[j + 1]\n",
        "                sub_li[j + 1]= tempo\n",
        "    return sub_li"
      ]
    },
    {
      "cell_type": "code",
      "source": [
        "individu1 = sorting(individu1)\n",
        "individu2 = sorting(individu2)\n",
        "print(len(individu1))\n",
        "print(individu1)\n",
        "print(individu2)"
      ],
      "metadata": {
        "id": "cGsysArmkKx8",
        "colab": {
          "base_uri": "https://localhost:8080/"
        },
        "outputId": "22d8ef29-e236-4a86-e725-a78d5c4c39bd"
      },
      "execution_count": 9,
      "outputs": [
        {
          "output_type": "stream",
          "name": "stdout",
          "text": [
            "36\n",
            "[[2, 14, 3, 1], [11, 35, 4, 1], [13, 8, 1, 1], [7, 7, 1, 1], [6, 25, 4, 2], [14, 28, 1, 2], [9, 3, 1, 3], [9, 35, 2, 4], [7, 27, 2, 4], [8, 5, 1, 4], [17, 7, 2, 4], [9, 2, 1, 5], [1, 25, 1, 5], [13, 24, 3, 6], [2, 28, 3, 6], [11, 16, 2, 7], [1, 34, 4, 7], [17, 16, 2, 7], [2, 27, 3, 7], [7, 13, 1, 8], [4, 28, 1, 9], [2, 23, 1, 9], [13, 14, 1, 9], [16, 4, 4, 10], [11, 18, 4, 10], [4, 3, 4, 10], [8, 3, 2, 11], [14, 10, 1, 11], [14, 33, 2, 12], [8, 24, 4, 12], [17, 4, 4, 12], [1, 22, 3, 12], [9, 25, 2, 13], [4, 22, 2, 13], [13, 15, 2, 13], [4, 7, 3, 14]]\n",
            "[[16, 11, 2, 1], [9, 23, 1, 1], [6, 19, 3, 2], [10, 36, 1, 2], [2, 36, 1, 2], [8, 6, 4, 3], [1, 35, 4, 4], [11, 23, 3, 4], [5, 4, 3, 5], [9, 35, 4, 5], [4, 19, 3, 5], [8, 30, 3, 5], [11, 32, 2, 6], [14, 29, 2, 6], [5, 11, 2, 6], [9, 36, 2, 6], [5, 9, 1, 6], [15, 35, 1, 7], [13, 8, 4, 7], [1, 12, 3, 7], [6, 30, 3, 7], [2, 1, 2, 8], [15, 36, 1, 8], [17, 1, 3, 9], [12, 7, 2, 9], [4, 20, 3, 9], [1, 20, 2, 10], [17, 31, 4, 10], [7, 10, 2, 10], [14, 14, 1, 10], [1, 5, 4, 12], [15, 15, 2, 12], [6, 12, 1, 12], [15, 12, 1, 13], [16, 10, 2, 13], [6, 5, 2, 14]]\n"
          ]
        }
      ]
    },
    {
      "cell_type": "code",
      "source": [
        "def cetak(a):\n",
        "  print(\"Jadwal Semester Ganjil\")\n",
        "  for i in range (0,len(a)) :\n",
        "      print(Waktu.waktu[(a[i][3])-1],' | ',\n",
        "            Ruang.ruang[(a[i][2])-1],' | ',\n",
        "            Matkul.matkul[(a[i][1])-1],' | ',\n",
        "            Dosen.dosen[(a[i][0])-1],\n",
        "            )"
      ],
      "metadata": {
        "id": "vv-wDAAdpT6e"
      },
      "execution_count": 10,
      "outputs": []
    },
    {
      "cell_type": "code",
      "source": [
        "#satu matkul hanya dilakukan satu kali\n",
        "def cek_matkul(a):\n",
        "  score = 0\n",
        "  for i in range (len(a)):\n",
        "    for j in range (i+1, len(a)):\n",
        "      if a[i][1] == a[i+1][1] and j<=len(a):\n",
        "        score = score + 1\n",
        "  return score"
      ],
      "metadata": {
        "id": "AZ_zUQ_jp5BL"
      },
      "execution_count": 11,
      "outputs": []
    },
    {
      "cell_type": "code",
      "source": [
        "#satu ruangan hanya dipakai satu kali dalam satu waktu\n",
        "def cek_ruang(a):\n",
        "  score = 0\n",
        "  for i in range (len(a)):\n",
        "    for j in range (i+1, len(a)):\n",
        "      if a[i][2] == a[i+1][2] and a[i][3] == a[i+1][3] and j<=len(a):\n",
        "        score = score + 1\n",
        "  return score"
      ],
      "metadata": {
        "id": "2Yl9Pc90vEy7"
      },
      "execution_count": 12,
      "outputs": []
    },
    {
      "cell_type": "code",
      "source": [
        "#satu dosen hanya bisa mengajar dalam satu waktu\n",
        "def cek_dosen(a):\n",
        "  score = 0\n",
        "  for i in range (len(a)):\n",
        "    for j in range (i+1, len(a)):\n",
        "      if a[i][0] == a[i+1][0] and a[i][3] == a[i+1][3] and j<=len(a):\n",
        "        score = score+1\n",
        "  return score\n"
      ],
      "metadata": {
        "id": "Cu5dsISNxRAU"
      },
      "execution_count": 13,
      "outputs": []
    },
    {
      "cell_type": "code",
      "execution_count": 13,
      "metadata": {
        "id": "MpxoUu6MYVVB"
      },
      "outputs": [],
      "source": []
    },
    {
      "cell_type": "code",
      "source": [
        "def fitness(a):\n",
        "  scores = 0\n",
        "  scores = scores + cek_matkul(a)\n",
        "  scores = scores + cek_dosen(a)\n",
        "  scores = scores + cek_ruang(a)\n",
        "  print(\"Score: \",scores)\n",
        "  return 1/(scores+1)"
      ],
      "metadata": {
        "id": "jX6zcfuape8J"
      },
      "execution_count": 14,
      "outputs": []
    },
    {
      "cell_type": "code",
      "source": [
        "def crossover(a,b):\n",
        "  a = list(a)\n",
        "  b = list(b)\n",
        "  c = list(a)\n",
        "  d = list(b)\n",
        "  print(\"Crossover\\n\")\n",
        "  print(\"Before\")\n",
        "  print(a)\n",
        "  print(b)\n",
        "\n",
        "  n = random.randint(1, ((len(a)-1)))\n",
        "  print(\"crossover point :\", n)\n",
        "\n",
        "  for i in range (n, len(a)):\n",
        "    a[i],b[i] = b[i],a[i]\n",
        "\n",
        "  print(\"After\")\n",
        "  print(a)\n",
        "  print(b)\n",
        "\n",
        "  return a,b\n",
        "  # fit_a = float(fitness(a))\n",
        "  # fit_b = float(fitness(b))\n",
        "  # fit_c = float(fitness(c))\n",
        "  # fit_d = float(fitness(d))\n",
        "  # print(fit_a)\n",
        "  # print(fit_b)\n",
        "  # print(fit_c)\n",
        "  # print(fit_d)\n",
        "  # _ = ['a','b','c','d']\n",
        "  # fit = [fit_a,fit_b,fit_c,fit_d]\n",
        "  # pair = dict(zip(fit,_))\n",
        "  # fit_sorted = dict(reversed(sorted(pair.items())))\n",
        "  # result = fit_sorted.values()\n",
        "  # print(fit_sorted.values())\n"
      ],
      "metadata": {
        "id": "oaHShrCQ2rrN"
      },
      "execution_count": 15,
      "outputs": []
    },
    {
      "cell_type": "code",
      "source": [
        "def cross(a,b):\n",
        "  a = list(a)\n",
        "  b = list(b)\n",
        "\n",
        "  print(\"Crossover\\n\")\n",
        "\n",
        "  print(\"Before\")\n",
        "  print(a)\n",
        "  print(b)\n",
        "\n",
        "  n = random.randint(1, (len(a)-1))\n",
        "  print(\"crossover point :\", n) \n",
        "\n",
        "  for i in range (n, len(a)):\n",
        "    a[i],b[i] = b[i],a[i]\n",
        "\n",
        "  print(\"After\")\n",
        "  print(a)\n",
        "  print(b)\n",
        "\n",
        "  return a\n",
        "\n",
        "c = cross(individu1,individu2)\n",
        "print(c)"
      ],
      "metadata": {
        "colab": {
          "base_uri": "https://localhost:8080/"
        },
        "id": "ks7L4gUywjY2",
        "outputId": "35c0009c-eea7-4088-b5cc-84ced5fec831"
      },
      "execution_count": 16,
      "outputs": [
        {
          "output_type": "stream",
          "name": "stdout",
          "text": [
            "Crossover\n",
            "\n",
            "Before\n",
            "[[2, 14, 3, 1], [11, 35, 4, 1], [13, 8, 1, 1], [7, 7, 1, 1], [6, 25, 4, 2], [14, 28, 1, 2], [9, 3, 1, 3], [9, 35, 2, 4], [7, 27, 2, 4], [8, 5, 1, 4], [17, 7, 2, 4], [9, 2, 1, 5], [1, 25, 1, 5], [13, 24, 3, 6], [2, 28, 3, 6], [11, 16, 2, 7], [1, 34, 4, 7], [17, 16, 2, 7], [2, 27, 3, 7], [7, 13, 1, 8], [4, 28, 1, 9], [2, 23, 1, 9], [13, 14, 1, 9], [16, 4, 4, 10], [11, 18, 4, 10], [4, 3, 4, 10], [8, 3, 2, 11], [14, 10, 1, 11], [14, 33, 2, 12], [8, 24, 4, 12], [17, 4, 4, 12], [1, 22, 3, 12], [9, 25, 2, 13], [4, 22, 2, 13], [13, 15, 2, 13], [4, 7, 3, 14]]\n",
            "[[16, 11, 2, 1], [9, 23, 1, 1], [6, 19, 3, 2], [10, 36, 1, 2], [2, 36, 1, 2], [8, 6, 4, 3], [1, 35, 4, 4], [11, 23, 3, 4], [5, 4, 3, 5], [9, 35, 4, 5], [4, 19, 3, 5], [8, 30, 3, 5], [11, 32, 2, 6], [14, 29, 2, 6], [5, 11, 2, 6], [9, 36, 2, 6], [5, 9, 1, 6], [15, 35, 1, 7], [13, 8, 4, 7], [1, 12, 3, 7], [6, 30, 3, 7], [2, 1, 2, 8], [15, 36, 1, 8], [17, 1, 3, 9], [12, 7, 2, 9], [4, 20, 3, 9], [1, 20, 2, 10], [17, 31, 4, 10], [7, 10, 2, 10], [14, 14, 1, 10], [1, 5, 4, 12], [15, 15, 2, 12], [6, 12, 1, 12], [15, 12, 1, 13], [16, 10, 2, 13], [6, 5, 2, 14]]\n",
            "crossover point : 34\n",
            "After\n",
            "[[2, 14, 3, 1], [11, 35, 4, 1], [13, 8, 1, 1], [7, 7, 1, 1], [6, 25, 4, 2], [14, 28, 1, 2], [9, 3, 1, 3], [9, 35, 2, 4], [7, 27, 2, 4], [8, 5, 1, 4], [17, 7, 2, 4], [9, 2, 1, 5], [1, 25, 1, 5], [13, 24, 3, 6], [2, 28, 3, 6], [11, 16, 2, 7], [1, 34, 4, 7], [17, 16, 2, 7], [2, 27, 3, 7], [7, 13, 1, 8], [4, 28, 1, 9], [2, 23, 1, 9], [13, 14, 1, 9], [16, 4, 4, 10], [11, 18, 4, 10], [4, 3, 4, 10], [8, 3, 2, 11], [14, 10, 1, 11], [14, 33, 2, 12], [8, 24, 4, 12], [17, 4, 4, 12], [1, 22, 3, 12], [9, 25, 2, 13], [4, 22, 2, 13], [16, 10, 2, 13], [6, 5, 2, 14]]\n",
            "[[16, 11, 2, 1], [9, 23, 1, 1], [6, 19, 3, 2], [10, 36, 1, 2], [2, 36, 1, 2], [8, 6, 4, 3], [1, 35, 4, 4], [11, 23, 3, 4], [5, 4, 3, 5], [9, 35, 4, 5], [4, 19, 3, 5], [8, 30, 3, 5], [11, 32, 2, 6], [14, 29, 2, 6], [5, 11, 2, 6], [9, 36, 2, 6], [5, 9, 1, 6], [15, 35, 1, 7], [13, 8, 4, 7], [1, 12, 3, 7], [6, 30, 3, 7], [2, 1, 2, 8], [15, 36, 1, 8], [17, 1, 3, 9], [12, 7, 2, 9], [4, 20, 3, 9], [1, 20, 2, 10], [17, 31, 4, 10], [7, 10, 2, 10], [14, 14, 1, 10], [1, 5, 4, 12], [15, 15, 2, 12], [6, 12, 1, 12], [15, 12, 1, 13], [13, 15, 2, 13], [4, 7, 3, 14]]\n",
            "[[2, 14, 3, 1], [11, 35, 4, 1], [13, 8, 1, 1], [7, 7, 1, 1], [6, 25, 4, 2], [14, 28, 1, 2], [9, 3, 1, 3], [9, 35, 2, 4], [7, 27, 2, 4], [8, 5, 1, 4], [17, 7, 2, 4], [9, 2, 1, 5], [1, 25, 1, 5], [13, 24, 3, 6], [2, 28, 3, 6], [11, 16, 2, 7], [1, 34, 4, 7], [17, 16, 2, 7], [2, 27, 3, 7], [7, 13, 1, 8], [4, 28, 1, 9], [2, 23, 1, 9], [13, 14, 1, 9], [16, 4, 4, 10], [11, 18, 4, 10], [4, 3, 4, 10], [8, 3, 2, 11], [14, 10, 1, 11], [14, 33, 2, 12], [8, 24, 4, 12], [17, 4, 4, 12], [1, 22, 3, 12], [9, 25, 2, 13], [4, 22, 2, 13], [16, 10, 2, 13], [6, 5, 2, 14]]\n"
          ]
        }
      ]
    },
    {
      "cell_type": "code",
      "source": [
        "def mutate(a,b, mut_rate):\n",
        "  n = len(a) + len(b)\n",
        "  print (n)\n",
        "  \n",
        "  total_mutation = int(abs(mut_rate * n))\n",
        "  if mut_rate > round(random.random(), 3):\n",
        "    print(\"Mutate\\n\")\n",
        "    print(\"Before\")\n",
        "    print(a)\n",
        "    print(b)\n",
        "    for i in range (total_mutation):\n",
        "      c = [random.randint(1, len(Dosen.dosen)),\n",
        "        random.randint(1, len(Matkul.matkul)),\n",
        "        random.randint(1, len(Ruang.ruang)),\n",
        "        random.randint(1, len(Waktu.waktu))]\n",
        "      x = random.randint(0,n)\n",
        "      # print(x)\n",
        "      if x <= 35 :\n",
        "        a[x] = c\n",
        "      else :\n",
        "        b[x-len(b)-1] = c\n",
        "    print(\"after\")\n",
        "    print(a)\n",
        "    print(b)\n",
        "  else:\n",
        "    print(\"Doesn't mutate\\n\")\n",
        "  # new_a = a\n",
        "  # neb_b = b\n",
        "  return a,b"
      ],
      "metadata": {
        "id": "9zPIC-H6mUz5"
      },
      "execution_count": 17,
      "outputs": []
    },
    {
      "cell_type": "code",
      "execution_count": 18,
      "metadata": {
        "id": "CsvISxtanfwy"
      },
      "outputs": [],
      "source": [
        "def evaluate(a,b,c):\n",
        "  a = list(a)\n",
        "  b = list(b)\n",
        "  c = list(c)\n",
        "  fit_a : float = fitness(a)\n",
        "  fit_b : float = fitness(b)\n",
        "  fit_c : float = fitness(c)\n",
        "\n",
        "  x1 = []\n",
        "  x2 = []\n",
        "  fit1 = 0.00\n",
        "  fit2 = 0.00\n",
        "  if fit_a > fit_b:\n",
        "    if fit_b > fit_c:\n",
        "      x1 = a\n",
        "      x2 = b\n",
        "      fit1 = fit_a\n",
        "      fit2 = fit_b\n",
        "    elif fit_c > fit_b:\n",
        "      x1 = a\n",
        "      x2 = c\n",
        "      fit1 = fit_a\n",
        "      fit2 = fit_c\n",
        "  elif fit_b > fit_a:\n",
        "    if fit_c > fit_a:\n",
        "      x1 = a\n",
        "      x2 = c\n",
        "      fit1 = fit_a\n",
        "      fit2 = fit_c\n",
        "\n",
        "  return x1,x2,fit1,fit2"
      ]
    },
    {
      "cell_type": "code",
      "source": [],
      "metadata": {
        "id": "hIJ5wXw3GEIA"
      },
      "execution_count": 18,
      "outputs": []
    },
    {
      "cell_type": "code",
      "source": [
        "def next_gen(a,b,c,d):\n",
        "  x1 = []\n",
        "  x2 = []\n",
        "  return x1,x2"
      ],
      "metadata": {
        "id": "jv6wBxZiKuLM"
      },
      "execution_count": null,
      "outputs": []
    },
    {
      "cell_type": "code",
      "source": [
        "def best_cr(a,b,c,d):\n",
        "  x1 = []\n",
        "  return x1"
      ],
      "metadata": {
        "id": "h1N7zWlQL5a1"
      },
      "execution_count": null,
      "outputs": []
    },
    {
      "cell_type": "code",
      "execution_count": null,
      "metadata": {
        "id": "RUfLnNGNvOg6"
      },
      "outputs": [],
      "source": [
        "def gA(a,b,rate):\n",
        "  generation = 0\n",
        "  score1 = 0.00\n",
        "  score2 = 0.00\n",
        "  best = []\n",
        "  while True:\n",
        "    if generation == 500 or score1 == 1.00 or score2 == 1.00:\n",
        "      cetak(best)\n",
        "      break\n",
        "    else:\n",
        "      print(\"Generation: \", generation)\n",
        "      a = sorting(a)\n",
        "      b = sorting(b)\n",
        "      score1 = fitness(a)\n",
        "      score2 = fitness(b)\n",
        "      # c = cross(a,b)\n",
        "      c,d = crossover(a,b)\n",
        "      c,d = mutate(a,b,rate)\n",
        "      score1 = fitness(c)\n",
        "      score2 = fitness(d)\n",
        "      best = best_cr(a,b,c,d)\n",
        "      a,b = next_gen(a,b,c,d)\n",
        "      \n",
        "      print(\"Fitness a:\", fitness(a))\n",
        "      print(\"Fitness b:\", fitness(b))\n",
        "      print(\"\\n\")\n",
        "      generation = generation+1\n",
        "      \n",
        "\n",
        "\n",
        "gA(individu1,individu2,0.1)    "
      ]
    },
    {
      "cell_type": "code",
      "source": [
        "x = [[14, 14, 2, 1], [15, 11, 4, 13], [13, 15, 1, 12], [14, 18, 2, 12], [6, 9, 2, 10], [15, 15, 3, 3], [10, 23, 2, 3], [17, 21, 3, 12], [1, 29, 2, 4], [8, 5, 1, 2], [6, 8, 4, 5], [10, 17, 4, 10], [13, 1, 1, 14], [4, 23, 4, 8], [9, 34, 4, 7], [10, 22, 3, 7], [10, 6, 3, 6], [5, 12, 4, 6], [17, 13, 2, 4], [9, 22, 3, 6], [1, 12, 2, 8], [16, 31, 2, 7], [4, 1, 1, 12], [3, 12, 1, 5], [6, 27, 1, 9], [14, 29, 4, 10], [10, 14, 1, 9], [13, 36, 4, 9], [16, 25, 3, 4], [2, 13, 2, 4], [4, 10, 1, 7], [10, 18, 3, 4], [3, 22, 3, 13], [11, 30, 4, 4], [11, 20, 2, 1], [15, 7, 1, 2]]\n",
        "print(cek_ruang(x))\n",
        "x = sorting(x)\n",
        "print(x)\n",
        "n = fitness(x)\n",
        "print(cek_ruang(x))\n",
        "\n",
        "# cetak(x)"
      ],
      "metadata": {
        "colab": {
          "base_uri": "https://localhost:8080/"
        },
        "id": "CM81CPzXn41M",
        "outputId": "f0d92712-d86a-4523-9bb9-1c11c5692dbf"
      },
      "execution_count": 27,
      "outputs": [
        {
          "output_type": "stream",
          "name": "stdout",
          "text": [
            "0\n",
            "[[14, 14, 2, 1], [11, 20, 2, 1], [8, 5, 1, 2], [15, 7, 1, 2], [15, 15, 3, 3], [10, 23, 2, 3], [1, 29, 2, 4], [17, 13, 2, 4], [16, 25, 3, 4], [2, 13, 2, 4], [10, 18, 3, 4], [11, 30, 4, 4], [6, 8, 4, 5], [3, 12, 1, 5], [10, 6, 3, 6], [5, 12, 4, 6], [9, 22, 3, 6], [9, 34, 4, 7], [10, 22, 3, 7], [16, 31, 2, 7], [4, 10, 1, 7], [4, 23, 4, 8], [1, 12, 2, 8], [6, 27, 1, 9], [10, 14, 1, 9], [13, 36, 4, 9], [6, 9, 2, 10], [10, 17, 4, 10], [14, 29, 4, 10], [13, 15, 1, 12], [14, 18, 2, 12], [17, 21, 3, 12], [4, 1, 1, 12], [15, 11, 4, 13], [3, 22, 3, 13], [13, 1, 1, 14]]\n",
            "Score:  117\n",
            "117\n"
          ]
        }
      ]
    },
    {
      "cell_type": "code",
      "execution_count": 21,
      "metadata": {
        "id": "1nDKkiHdjTr0"
      },
      "outputs": [],
      "source": [
        "score: float = 0.0\n",
        "generation = 0\n",
        "  \n",
        "# def fitness(population):\n",
        "#   global score\n",
        "\n"
      ]
    },
    {
      "cell_type": "code",
      "execution_count": 22,
      "metadata": {
        "id": "87a224lsQjQY"
      },
      "outputs": [],
      "source": [
        "# population = [5]\n",
        "# def init_gen(total_pop, dosen, ruang, waktu):\n",
        "#   global population\n",
        "#   for i in range (total_pop):\n",
        "#     # print(ruang)\n",
        "#     population[i] = [[random.randint(1, dosen), \n",
        "#                       #  random.randint(1, len(Matkul.matkul)),\n",
        "#                       random.randint(1, ruang),\n",
        "#                       random.randint(1, waktu)\n",
        "#                       ] for j in range (ruang*waktu)]\n",
        "#     # print(\"populasi ke \" + i + \":\" + population[i])\n",
        "\n",
        "# init_gen(3, len(Dosen.dosen), len(Ruang.ruang), len(Waktu.waktu))\n"
      ]
    },
    {
      "cell_type": "code",
      "source": [
        "import random\n",
        "  \n",
        "# Number of individuals in each generation\n",
        "POPULATION_SIZE = 100\n",
        "  \n",
        "# Valid genes\n",
        "GENES = '''abcdefghijklmnopqrstuvwxyzABCDEFGHIJKLMNOP\n",
        "QRSTUVWXYZ 1234567890, .-;:_!\"#%&/()=?@${[]}'''\n",
        "  \n",
        "# Target string to be generated\n",
        "TARGET = \"I love GeeksforGeeks\"\n",
        "  \n",
        "class Individual(object):\n",
        "    # '''\n",
        "    # Class representing individual in population\n",
        "    # '''\n",
        "    def __init__(self, chromosome):\n",
        "        self.chromosome = chromosome \n",
        "        self.fitness = self.cal_fitness()\n",
        "  \n",
        "    @classmethod\n",
        "    def mutated_genes(self):\n",
        "        # '''\n",
        "        # create random genes for mutation\n",
        "        # '''\n",
        "        global GENES\n",
        "        gene = random.choice(GENES)\n",
        "        return gene\n",
        "  \n",
        "    @classmethod\n",
        "    def create_gnome(self):\n",
        "        # '''\n",
        "        # create chromosome or string of genes\n",
        "        # '''\n",
        "        global TARGET\n",
        "        gnome_len = len(TARGET)\n",
        "        return [self.mutated_genes() for _ in range(gnome_len)]\n",
        "  \n",
        "    def mate(self, par2):\n",
        "        # '''\n",
        "        # Perform mating and produce new offspring\n",
        "        # '''\n",
        "  \n",
        "        # chromosome for offspring\n",
        "        child_chromosome = []\n",
        "        for gp1, gp2 in zip(self.chromosome, par2.chromosome):    \n",
        "  \n",
        "            # random probability  \n",
        "            prob = random.random()\n",
        "  \n",
        "            # if prob is less than 0.45, insert gene\n",
        "            # from parent 1 \n",
        "            if prob < 0.45:\n",
        "                child_chromosome.append(gp1)\n",
        "  \n",
        "            # if prob is between 0.45 and 0.90, insert\n",
        "            # gene from parent 2\n",
        "            elif prob < 0.90:\n",
        "                child_chromosome.append(gp2)\n",
        "  \n",
        "            # otherwise insert random gene(mutate), \n",
        "            # for maintaining diversity\n",
        "            else:\n",
        "                child_chromosome.append(self.mutated_genes())\n",
        "  \n",
        "        # create new Individual(offspring) using \n",
        "        # generated chromosome for offspring\n",
        "        return Individual(child_chromosome)\n",
        "  \n",
        "    def cal_fitness(self):\n",
        "        # '''\n",
        "        # Calculate fitness score, it is the number of\n",
        "        # characters in string which differ from target\n",
        "        # string.\n",
        "        # '''\n",
        "        global TARGET\n",
        "        fitness = 0\n",
        "        for gs, gt in zip(self.chromosome, TARGET):\n",
        "            if gs != gt: fitness+= 1\n",
        "        return fitness\n",
        "  \n",
        "# Driver code\n",
        "def main():\n",
        "    global POPULATION_SIZE\n",
        "  \n",
        "    #current generation\n",
        "    generation = 1\n",
        "  \n",
        "    found = False\n",
        "    population = []\n",
        "  \n",
        "    # create initial population\n",
        "    for _ in range(POPULATION_SIZE):\n",
        "                gnome = Individual.create_gnome()\n",
        "                population.append(Individual(gnome))\n",
        "  \n",
        "    while not found:\n",
        "  \n",
        "        # sort the population in increasing order of fitness score\n",
        "        population = sorted(population, key = lambda x:x.fitness)\n",
        "  \n",
        "        # if the individual having lowest fitness score ie. \n",
        "        # 0 then we know that we have reached to the target\n",
        "        # and break the loop\n",
        "        if population[0].fitness <= 0:\n",
        "            found = True\n",
        "            break\n",
        "  \n",
        "        # Otherwise generate new offsprings for new generation\n",
        "        new_generation = []\n",
        "  \n",
        "        # Perform Elitism, that mean 10% of fittest population\n",
        "        # goes to the next generation\n",
        "        s = int((10*POPULATION_SIZE)/100)\n",
        "        new_generation.extend(population[:s])\n",
        "  \n",
        "        # From 50% of fittest population, Individuals \n",
        "        # will mate to produce offspring\n",
        "        s = int((90*POPULATION_SIZE)/100)\n",
        "        for _ in range(s):\n",
        "            parent1 = random.choice(population[:50])\n",
        "            parent2 = random.choice(population[:50])\n",
        "            child = parent1.mate(parent2)\n",
        "            new_generation.append(child)\n",
        "  \n",
        "        population = new_generation\n",
        "  \n",
        "        print(\"Generation: {}\\tString: {}\\tFitness: {}\".\\\n",
        "              format(generation,\n",
        "              \"\".join(population[0].chromosome),\n",
        "              population[0].fitness))\n",
        "  \n",
        "        generation += 1\n",
        "  \n",
        "      \n",
        "    print(\"Generation: {}\\tString: {}\\tFitness: {}\".\\\n",
        "          format(generation,\n",
        "          \"\".join(population[0].chromosome),\n",
        "          population[0].fitness))\n",
        "  \n",
        "if __name__ == '__main__':\n",
        "    main()"
      ],
      "metadata": {
        "id": "fMdu1FCmfEuk",
        "colab": {
          "base_uri": "https://localhost:8080/"
        },
        "outputId": "c84ad3c4-f4df-478d-c543-700b59f43f64"
      },
      "execution_count": 23,
      "outputs": [
        {
          "output_type": "stream",
          "name": "stdout",
          "text": [
            "Generation: 1\tString: \n",
            "Bu??B  MeZJFU[vLCi3\tFitness: 18\n",
            "Generation: 2\tString: \n",
            "Bu??B  MeZJFU[vLCi3\tFitness: 18\n",
            "Generation: 3\tString: gtloyY)C]rsOt}W[D@ys\tFitness: 17\n",
            "Generation: 4\tString: Khlo.Y,Garsetp5dOh8s\tFitness: 16\n",
            "Generation: 5\tString: M;l-TH GRtlY6/i2@ek[\tFitness: 15\n",
            "Generation: 6\tString: OhlozY,GerseEH5deex \tFitness: 14\n",
            "Generation: 7\tString: OhlozY,GerseEH5deex \tFitness: 14\n",
            "Generation: 8\tString: K lovmsOF!l-WMr#eexs\tFitness: 12\n",
            "Generation: 9\tString: I9lo.YsGe1kJ2A5$eek0\tFitness: 11\n",
            "Generation: 10\tString: I9lo.YsGe1kJ2A5$eek0\tFitness: 11\n",
            "Generation: 11\tString: I9lo.YsGe1kJ2A5$eek0\tFitness: 11\n",
            "Generation: 12\tString: K;lovm Ge:AMW/r#Weks\tFitness: 10\n",
            "Generation: 13\tString: K;lovm Ge:AMW/r#Weks\tFitness: 10\n",
            "Generation: 14\tString: O1lovY GIekJWhr2enks\tFitness: 9\n",
            "Generation: 15\tString: O1lovY GIekJWhr2enks\tFitness: 9\n",
            "Generation: 16\tString: I1lovY GIekJAhr2eeks\tFitness: 7\n",
            "Generation: 17\tString: I1lovY GIekJAhr2eeks\tFitness: 7\n",
            "Generation: 18\tString: I lovY GeekJWh,neeks\tFitness: 6\n",
            "Generation: 19\tString: I lovY GeekJWh,neeks\tFitness: 6\n",
            "Generation: 20\tString: I lovY GeekJWh,neeks\tFitness: 6\n",
            "Generation: 21\tString: I lovY GeekJWh,neeks\tFitness: 6\n",
            "Generation: 22\tString: I lovY GeekMWhr#eeks\tFitness: 5\n",
            "Generation: 23\tString: I lovY GeekMWhr#eeks\tFitness: 5\n",
            "Generation: 24\tString: I lovY GeekMWhr#eeks\tFitness: 5\n",
            "Generation: 25\tString: I lovY GeekMWhr#eeks\tFitness: 5\n",
            "Generation: 26\tString: I lovY GeekMWhr#eeks\tFitness: 5\n",
            "Generation: 27\tString: I lovY GeekMWhr#eeks\tFitness: 5\n",
            "Generation: 28\tString: I lovY GeekMWhr#eeks\tFitness: 5\n",
            "Generation: 29\tString: I lovY GeekMWhr#eeks\tFitness: 5\n",
            "Generation: 30\tString: I lovY GeekMWhr#eeks\tFitness: 5\n",
            "Generation: 31\tString: I lovN GeekM(hrGeeks\tFitness: 4\n",
            "Generation: 32\tString: I lovN GeekM(hrGeeks\tFitness: 4\n",
            "Generation: 33\tString: I lovN GeekM(hrGeeks\tFitness: 4\n",
            "Generation: 34\tString: I lovN GeekM(hrGeeks\tFitness: 4\n",
            "Generation: 35\tString: I lovN GeekM(hrGeeks\tFitness: 4\n",
            "Generation: 36\tString: I lovN GeekM(hrGeeks\tFitness: 4\n",
            "Generation: 37\tString: I lovN GeekM(hrGeeks\tFitness: 4\n",
            "Generation: 38\tString: ItlovN GeekMforGeeks\tFitness: 3\n",
            "Generation: 39\tString: ItlovN GeekMforGeeks\tFitness: 3\n",
            "Generation: 40\tString: ItlovN GeekMforGeeks\tFitness: 3\n",
            "Generation: 41\tString: ItlovN GeekMforGeeks\tFitness: 3\n",
            "Generation: 42\tString: ItlovN GeekMforGeeks\tFitness: 3\n",
            "Generation: 43\tString: ItlovN GeekMforGeeks\tFitness: 3\n",
            "Generation: 44\tString: I lovT Geek!forGeeks\tFitness: 2\n",
            "Generation: 45\tString: I lovT Geek!forGeeks\tFitness: 2\n",
            "Generation: 46\tString: I lovT Geek!forGeeks\tFitness: 2\n",
            "Generation: 47\tString: I lovT Geek!forGeeks\tFitness: 2\n",
            "Generation: 48\tString: I lovT Geek!forGeeks\tFitness: 2\n",
            "Generation: 49\tString: I lovT Geek!forGeeks\tFitness: 2\n",
            "Generation: 50\tString: I lovT Geek!forGeeks\tFitness: 2\n",
            "Generation: 51\tString: I lovT Geek!forGeeks\tFitness: 2\n",
            "Generation: 52\tString: I lovT Geek!forGeeks\tFitness: 2\n",
            "Generation: 53\tString: I lovT Geek!forGeeks\tFitness: 2\n",
            "Generation: 54\tString: I lovT Geek!forGeeks\tFitness: 2\n",
            "Generation: 55\tString: I lovT Geek!forGeeks\tFitness: 2\n",
            "Generation: 56\tString: I lovT Geek!forGeeks\tFitness: 2\n",
            "Generation: 57\tString: I lovT Geek!forGeeks\tFitness: 2\n",
            "Generation: 58\tString: I lov\" GeeksforGeeks\tFitness: 1\n",
            "Generation: 59\tString: I lov\" GeeksforGeeks\tFitness: 1\n",
            "Generation: 60\tString: I lov\" GeeksforGeeks\tFitness: 1\n",
            "Generation: 61\tString: I lov\" GeeksforGeeks\tFitness: 1\n",
            "Generation: 62\tString: I lov\" GeeksforGeeks\tFitness: 1\n",
            "Generation: 63\tString: I lov\" GeeksforGeeks\tFitness: 1\n",
            "Generation: 64\tString: I lov\" GeeksforGeeks\tFitness: 1\n",
            "Generation: 65\tString: I lov\" GeeksforGeeks\tFitness: 1\n",
            "Generation: 66\tString: I lov\" GeeksforGeeks\tFitness: 1\n",
            "Generation: 67\tString: I lov\" GeeksforGeeks\tFitness: 1\n",
            "Generation: 68\tString: I lov\" GeeksforGeeks\tFitness: 1\n",
            "Generation: 69\tString: I lov\" GeeksforGeeks\tFitness: 1\n",
            "Generation: 70\tString: I lov\" GeeksforGeeks\tFitness: 1\n",
            "Generation: 71\tString: I lov\" GeeksforGeeks\tFitness: 1\n",
            "Generation: 72\tString: I lov\" GeeksforGeeks\tFitness: 1\n",
            "Generation: 73\tString: I lov\" GeeksforGeeks\tFitness: 1\n",
            "Generation: 74\tString: I lov\" GeeksforGeeks\tFitness: 1\n",
            "Generation: 75\tString: I lov\" GeeksforGeeks\tFitness: 1\n",
            "Generation: 76\tString: I lov\" GeeksforGeeks\tFitness: 1\n",
            "Generation: 77\tString: I lov\" GeeksforGeeks\tFitness: 1\n",
            "Generation: 78\tString: I lov\" GeeksforGeeks\tFitness: 1\n",
            "Generation: 79\tString: I lov\" GeeksforGeeks\tFitness: 1\n",
            "Generation: 80\tString: I lov\" GeeksforGeeks\tFitness: 1\n",
            "Generation: 81\tString: I lov\" GeeksforGeeks\tFitness: 1\n",
            "Generation: 82\tString: I lov\" GeeksforGeeks\tFitness: 1\n",
            "Generation: 83\tString: I lov\" GeeksforGeeks\tFitness: 1\n",
            "Generation: 84\tString: I lov\" GeeksforGeeks\tFitness: 1\n",
            "Generation: 85\tString: I lov\" GeeksforGeeks\tFitness: 1\n",
            "Generation: 86\tString: I lov\" GeeksforGeeks\tFitness: 1\n",
            "Generation: 87\tString: I lov\" GeeksforGeeks\tFitness: 1\n",
            "Generation: 88\tString: I lov\" GeeksforGeeks\tFitness: 1\n",
            "Generation: 89\tString: I lov\" GeeksforGeeks\tFitness: 1\n",
            "Generation: 90\tString: I lov\" GeeksforGeeks\tFitness: 1\n",
            "Generation: 91\tString: I lov\" GeeksforGeeks\tFitness: 1\n",
            "Generation: 92\tString: I lov\" GeeksforGeeks\tFitness: 1\n",
            "Generation: 93\tString: I lov\" GeeksforGeeks\tFitness: 1\n",
            "Generation: 94\tString: I lov\" GeeksforGeeks\tFitness: 1\n",
            "Generation: 95\tString: I lov\" GeeksforGeeks\tFitness: 1\n",
            "Generation: 96\tString: I lov\" GeeksforGeeks\tFitness: 1\n",
            "Generation: 97\tString: I lov\" GeeksforGeeks\tFitness: 1\n",
            "Generation: 98\tString: I lov\" GeeksforGeeks\tFitness: 1\n",
            "Generation: 99\tString: I lov\" GeeksforGeeks\tFitness: 1\n",
            "Generation: 100\tString: I lov\" GeeksforGeeks\tFitness: 1\n",
            "Generation: 101\tString: I lov\" GeeksforGeeks\tFitness: 1\n",
            "Generation: 102\tString: I lov\" GeeksforGeeks\tFitness: 1\n",
            "Generation: 103\tString: I lov\" GeeksforGeeks\tFitness: 1\n",
            "Generation: 104\tString: I lov\" GeeksforGeeks\tFitness: 1\n",
            "Generation: 105\tString: I lov\" GeeksforGeeks\tFitness: 1\n",
            "Generation: 106\tString: I lov\" GeeksforGeeks\tFitness: 1\n",
            "Generation: 107\tString: I lov\" GeeksforGeeks\tFitness: 1\n",
            "Generation: 108\tString: I lov\" GeeksforGeeks\tFitness: 1\n",
            "Generation: 109\tString: I lov\" GeeksforGeeks\tFitness: 1\n",
            "Generation: 110\tString: I lov\" GeeksforGeeks\tFitness: 1\n",
            "Generation: 111\tString: I lov\" GeeksforGeeks\tFitness: 1\n",
            "Generation: 112\tString: I lov\" GeeksforGeeks\tFitness: 1\n",
            "Generation: 113\tString: I lov\" GeeksforGeeks\tFitness: 1\n",
            "Generation: 114\tString: I lov\" GeeksforGeeks\tFitness: 1\n",
            "Generation: 115\tString: I lov\" GeeksforGeeks\tFitness: 1\n",
            "Generation: 116\tString: I lov\" GeeksforGeeks\tFitness: 1\n",
            "Generation: 117\tString: I lov\" GeeksforGeeks\tFitness: 1\n",
            "Generation: 118\tString: I lov\" GeeksforGeeks\tFitness: 1\n",
            "Generation: 119\tString: I lov\" GeeksforGeeks\tFitness: 1\n",
            "Generation: 120\tString: I lov\" GeeksforGeeks\tFitness: 1\n",
            "Generation: 121\tString: I lov\" GeeksforGeeks\tFitness: 1\n",
            "Generation: 122\tString: I lov\" GeeksforGeeks\tFitness: 1\n",
            "Generation: 123\tString: I lov\" GeeksforGeeks\tFitness: 1\n",
            "Generation: 124\tString: I lov\" GeeksforGeeks\tFitness: 1\n",
            "Generation: 125\tString: I lov\" GeeksforGeeks\tFitness: 1\n",
            "Generation: 126\tString: I lov\" GeeksforGeeks\tFitness: 1\n",
            "Generation: 127\tString: I lov\" GeeksforGeeks\tFitness: 1\n",
            "Generation: 128\tString: I lov\" GeeksforGeeks\tFitness: 1\n",
            "Generation: 129\tString: I lov\" GeeksforGeeks\tFitness: 1\n",
            "Generation: 130\tString: I lov\" GeeksforGeeks\tFitness: 1\n",
            "Generation: 131\tString: I lov\" GeeksforGeeks\tFitness: 1\n",
            "Generation: 132\tString: I lov\" GeeksforGeeks\tFitness: 1\n",
            "Generation: 133\tString: I lov\" GeeksforGeeks\tFitness: 1\n",
            "Generation: 134\tString: I lov\" GeeksforGeeks\tFitness: 1\n",
            "Generation: 135\tString: I lov\" GeeksforGeeks\tFitness: 1\n",
            "Generation: 136\tString: I lov\" GeeksforGeeks\tFitness: 1\n",
            "Generation: 137\tString: I lov\" GeeksforGeeks\tFitness: 1\n",
            "Generation: 138\tString: I lov\" GeeksforGeeks\tFitness: 1\n",
            "Generation: 139\tString: I lov\" GeeksforGeeks\tFitness: 1\n",
            "Generation: 140\tString: I lov\" GeeksforGeeks\tFitness: 1\n",
            "Generation: 141\tString: I lov\" GeeksforGeeks\tFitness: 1\n",
            "Generation: 142\tString: I lov\" GeeksforGeeks\tFitness: 1\n",
            "Generation: 143\tString: I lov\" GeeksforGeeks\tFitness: 1\n",
            "Generation: 144\tString: I lov\" GeeksforGeeks\tFitness: 1\n",
            "Generation: 145\tString: I lov\" GeeksforGeeks\tFitness: 1\n",
            "Generation: 146\tString: I lov\" GeeksforGeeks\tFitness: 1\n",
            "Generation: 147\tString: I lov\" GeeksforGeeks\tFitness: 1\n",
            "Generation: 148\tString: I lov\" GeeksforGeeks\tFitness: 1\n",
            "Generation: 149\tString: I lov\" GeeksforGeeks\tFitness: 1\n",
            "Generation: 150\tString: I lov\" GeeksforGeeks\tFitness: 1\n",
            "Generation: 151\tString: I lov\" GeeksforGeeks\tFitness: 1\n",
            "Generation: 152\tString: I lov\" GeeksforGeeks\tFitness: 1\n",
            "Generation: 153\tString: I lov\" GeeksforGeeks\tFitness: 1\n",
            "Generation: 154\tString: I lov\" GeeksforGeeks\tFitness: 1\n",
            "Generation: 155\tString: I lov\" GeeksforGeeks\tFitness: 1\n",
            "Generation: 156\tString: I lov\" GeeksforGeeks\tFitness: 1\n",
            "Generation: 157\tString: I lov\" GeeksforGeeks\tFitness: 1\n",
            "Generation: 158\tString: I lov\" GeeksforGeeks\tFitness: 1\n",
            "Generation: 159\tString: I lov\" GeeksforGeeks\tFitness: 1\n",
            "Generation: 160\tString: I lov\" GeeksforGeeks\tFitness: 1\n",
            "Generation: 161\tString: I lov\" GeeksforGeeks\tFitness: 1\n",
            "Generation: 162\tString: I lov\" GeeksforGeeks\tFitness: 1\n",
            "Generation: 163\tString: I lov\" GeeksforGeeks\tFitness: 1\n",
            "Generation: 164\tString: I lov\" GeeksforGeeks\tFitness: 1\n",
            "Generation: 165\tString: I lov\" GeeksforGeeks\tFitness: 1\n",
            "Generation: 166\tString: I lov\" GeeksforGeeks\tFitness: 1\n",
            "Generation: 167\tString: I lov\" GeeksforGeeks\tFitness: 1\n",
            "Generation: 168\tString: I lov\" GeeksforGeeks\tFitness: 1\n",
            "Generation: 169\tString: I lov\" GeeksforGeeks\tFitness: 1\n",
            "Generation: 170\tString: I lov\" GeeksforGeeks\tFitness: 1\n",
            "Generation: 171\tString: I lov\" GeeksforGeeks\tFitness: 1\n",
            "Generation: 172\tString: I lov\" GeeksforGeeks\tFitness: 1\n",
            "Generation: 173\tString: I love GeeksforGeeks\tFitness: 0\n"
          ]
        }
      ]
    },
    {
      "cell_type": "code",
      "source": [
        "# a = []\n",
        "# for i in range (1):\n",
        "#   individu = [[random.randint(1, len(Dosen.dosen)), \n",
        "#               random.randint(1, len(Matkul.matkul)),\n",
        "#                random.randint(1, len(Ruang.ruang)),\n",
        "#                random.randint(1, len(Waktu.waktu))\n",
        "#                ] \n",
        "#               for i in range (len(Ruang.ruang)*len(Waktu.waktu))]\n",
        "#   sort(individu)\n",
        "#   print(individu)\n",
        "#   a.append(individu)\n",
        "\n",
        "# print(a)\n",
        "  "
      ],
      "metadata": {
        "id": "dSUcfalxfUTc"
      },
      "execution_count": 24,
      "outputs": []
    }
  ],
  "metadata": {
    "colab": {
      "provenance": [],
      "authorship_tag": "ABX9TyPt5wPGpDurT3m6oZyN80oD",
      "include_colab_link": true
    },
    "kernelspec": {
      "display_name": "Python 3",
      "name": "python3"
    },
    "language_info": {
      "name": "python"
    }
  },
  "nbformat": 4,
  "nbformat_minor": 0
}